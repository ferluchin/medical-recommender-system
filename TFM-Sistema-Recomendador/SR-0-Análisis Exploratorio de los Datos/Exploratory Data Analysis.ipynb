{
 "cells": [
  {
   "cell_type": "markdown",
   "metadata": {},
   "source": [
    "# Análisis Exploratorio de Datos pacientes con diabetes\n",
    "\n",
    "# Tesis Parte 0"
   ]
  },
  {
   "cell_type": "markdown",
   "metadata": {},
   "source": [
    "### Introducción\n",
    "\n",
    "\n",
    "### Conjunto de datos\n",
    "Nuestro conjunto de datos es: Conjunto de datos de 130 hospitales de EE.UU. para los años 1999-2008.\n",
    "\n",
    "Fuente: https://archive.ics.uci.edu/ml/datasets/Diabetes+130-US+hospitals+for+years+1999-2008\n",
    "\n",
    "El conjunto de datos representa 10 años (1999-2008) de atención clínica en 130 hospitales de EE.UU. y redes de distribución integradas. Incluye más de 50 características que representan los resultados de los pacientes y los hospitales. \n",
    "\n",
    "Los datos contienen atributos como el número de paciente, la raza, el sexo, la edad, el tipo de ingreso, el tiempo de estancia en el hospital, la especialidad médica del médico que lo ingresó, el número de pruebas de laboratorio realizadas, el resultado de la prueba de HbA1c, el diagnóstico, el número de medicamentos, los medicamentos para diabéticos, el número de visitas ambulatorias, de hospitalización y de urgencia en el año anterior a la hospitalización, etc.\n",
    "\n",
    "\n"
   ]
  },
  {
   "cell_type": "markdown",
   "metadata": {},
   "source": [
    "### Libraries Import"
   ]
  },
  {
   "cell_type": "code",
   "execution_count": 1,
   "metadata": {},
   "outputs": [],
   "source": [
    "import numpy as np\n",
    "import pandas as pd \n",
    "\n",
    "import seaborn as sns\n",
    "import matplotlib.pyplot as plt\n",
    "%matplotlib inline\n",
    "plt.style.use('ggplot')\n",
    "\n",
    "from sklearn.model_selection import train_test_split\n",
    "from sklearn.preprocessing import StandardScaler\n",
    "from sklearn import metrics\n",
    "from sklearn.model_selection import GridSearchCV\n",
    "from sklearn.model_selection import RandomizedSearchCV\n",
    "from sklearn.model_selection import cross_val_score\n",
    "from sklearn.metrics import confusion_matrix\n",
    "from sklearn.metrics import roc_curve, auc\n",
    "from sklearn.metrics import classification_report\n",
    "\n",
    "from sklearn.naive_bayes import GaussianNB\n",
    "from sklearn.neighbors import KNeighborsClassifier\n",
    "from sklearn.svm import SVC\n",
    "from sklearn.ensemble import RandomForestClassifier\n",
    "from sklearn.ensemble import GradientBoostingClassifier"
   ]
  },
  {
   "cell_type": "markdown",
   "metadata": {},
   "source": [
    "### Importación de datos"
   ]
  },
  {
   "cell_type": "code",
   "execution_count": 2,
   "metadata": {},
   "outputs": [],
   "source": [
    "df = pd.read_csv(\"diabetic_data.csv\")"
   ]
  },
  {
   "cell_type": "markdown",
   "metadata": {},
   "source": [
    "### Descripción de los datos"
   ]
  },
  {
   "cell_type": "markdown",
   "metadata": {},
   "source": [
    "##### Encabezado de datos"
   ]
  },
  {
   "cell_type": "code",
   "execution_count": 3,
   "metadata": {},
   "outputs": [
    {
     "data": {
      "text/html": [
       "<div>\n",
       "<style scoped>\n",
       "    .dataframe tbody tr th:only-of-type {\n",
       "        vertical-align: middle;\n",
       "    }\n",
       "\n",
       "    .dataframe tbody tr th {\n",
       "        vertical-align: top;\n",
       "    }\n",
       "\n",
       "    .dataframe thead th {\n",
       "        text-align: right;\n",
       "    }\n",
       "</style>\n",
       "<table border=\"1\" class=\"dataframe\">\n",
       "  <thead>\n",
       "    <tr style=\"text-align: right;\">\n",
       "      <th></th>\n",
       "      <th>encounter_id</th>\n",
       "      <th>patient_nbr</th>\n",
       "      <th>race</th>\n",
       "      <th>gender</th>\n",
       "      <th>age</th>\n",
       "      <th>weight</th>\n",
       "      <th>admission_type_id</th>\n",
       "      <th>discharge_disposition_id</th>\n",
       "      <th>admission_source_id</th>\n",
       "      <th>time_in_hospital</th>\n",
       "      <th>...</th>\n",
       "      <th>citoglipton</th>\n",
       "      <th>insulin</th>\n",
       "      <th>glyburide-metformin</th>\n",
       "      <th>glipizide-metformin</th>\n",
       "      <th>glimepiride-pioglitazone</th>\n",
       "      <th>metformin-rosiglitazone</th>\n",
       "      <th>metformin-pioglitazone</th>\n",
       "      <th>change</th>\n",
       "      <th>diabetesMed</th>\n",
       "      <th>readmitted</th>\n",
       "    </tr>\n",
       "  </thead>\n",
       "  <tbody>\n",
       "    <tr>\n",
       "      <th>0</th>\n",
       "      <td>2278392</td>\n",
       "      <td>8222157</td>\n",
       "      <td>Caucasian</td>\n",
       "      <td>Female</td>\n",
       "      <td>[0-10)</td>\n",
       "      <td>?</td>\n",
       "      <td>6</td>\n",
       "      <td>25</td>\n",
       "      <td>1</td>\n",
       "      <td>1</td>\n",
       "      <td>...</td>\n",
       "      <td>No</td>\n",
       "      <td>No</td>\n",
       "      <td>No</td>\n",
       "      <td>No</td>\n",
       "      <td>No</td>\n",
       "      <td>No</td>\n",
       "      <td>No</td>\n",
       "      <td>No</td>\n",
       "      <td>No</td>\n",
       "      <td>NO</td>\n",
       "    </tr>\n",
       "    <tr>\n",
       "      <th>1</th>\n",
       "      <td>149190</td>\n",
       "      <td>55629189</td>\n",
       "      <td>Caucasian</td>\n",
       "      <td>Female</td>\n",
       "      <td>[10-20)</td>\n",
       "      <td>?</td>\n",
       "      <td>1</td>\n",
       "      <td>1</td>\n",
       "      <td>7</td>\n",
       "      <td>3</td>\n",
       "      <td>...</td>\n",
       "      <td>No</td>\n",
       "      <td>Up</td>\n",
       "      <td>No</td>\n",
       "      <td>No</td>\n",
       "      <td>No</td>\n",
       "      <td>No</td>\n",
       "      <td>No</td>\n",
       "      <td>Ch</td>\n",
       "      <td>Yes</td>\n",
       "      <td>&gt;30</td>\n",
       "    </tr>\n",
       "    <tr>\n",
       "      <th>2</th>\n",
       "      <td>64410</td>\n",
       "      <td>86047875</td>\n",
       "      <td>AfricanAmerican</td>\n",
       "      <td>Female</td>\n",
       "      <td>[20-30)</td>\n",
       "      <td>?</td>\n",
       "      <td>1</td>\n",
       "      <td>1</td>\n",
       "      <td>7</td>\n",
       "      <td>2</td>\n",
       "      <td>...</td>\n",
       "      <td>No</td>\n",
       "      <td>No</td>\n",
       "      <td>No</td>\n",
       "      <td>No</td>\n",
       "      <td>No</td>\n",
       "      <td>No</td>\n",
       "      <td>No</td>\n",
       "      <td>No</td>\n",
       "      <td>Yes</td>\n",
       "      <td>NO</td>\n",
       "    </tr>\n",
       "    <tr>\n",
       "      <th>3</th>\n",
       "      <td>500364</td>\n",
       "      <td>82442376</td>\n",
       "      <td>Caucasian</td>\n",
       "      <td>Male</td>\n",
       "      <td>[30-40)</td>\n",
       "      <td>?</td>\n",
       "      <td>1</td>\n",
       "      <td>1</td>\n",
       "      <td>7</td>\n",
       "      <td>2</td>\n",
       "      <td>...</td>\n",
       "      <td>No</td>\n",
       "      <td>Up</td>\n",
       "      <td>No</td>\n",
       "      <td>No</td>\n",
       "      <td>No</td>\n",
       "      <td>No</td>\n",
       "      <td>No</td>\n",
       "      <td>Ch</td>\n",
       "      <td>Yes</td>\n",
       "      <td>NO</td>\n",
       "    </tr>\n",
       "    <tr>\n",
       "      <th>4</th>\n",
       "      <td>16680</td>\n",
       "      <td>42519267</td>\n",
       "      <td>Caucasian</td>\n",
       "      <td>Male</td>\n",
       "      <td>[40-50)</td>\n",
       "      <td>?</td>\n",
       "      <td>1</td>\n",
       "      <td>1</td>\n",
       "      <td>7</td>\n",
       "      <td>1</td>\n",
       "      <td>...</td>\n",
       "      <td>No</td>\n",
       "      <td>Steady</td>\n",
       "      <td>No</td>\n",
       "      <td>No</td>\n",
       "      <td>No</td>\n",
       "      <td>No</td>\n",
       "      <td>No</td>\n",
       "      <td>Ch</td>\n",
       "      <td>Yes</td>\n",
       "      <td>NO</td>\n",
       "    </tr>\n",
       "  </tbody>\n",
       "</table>\n",
       "<p>5 rows × 50 columns</p>\n",
       "</div>"
      ],
      "text/plain": [
       "   encounter_id  patient_nbr             race  gender      age weight  \\\n",
       "0       2278392      8222157        Caucasian  Female   [0-10)      ?   \n",
       "1        149190     55629189        Caucasian  Female  [10-20)      ?   \n",
       "2         64410     86047875  AfricanAmerican  Female  [20-30)      ?   \n",
       "3        500364     82442376        Caucasian    Male  [30-40)      ?   \n",
       "4         16680     42519267        Caucasian    Male  [40-50)      ?   \n",
       "\n",
       "   admission_type_id  discharge_disposition_id  admission_source_id  \\\n",
       "0                  6                        25                    1   \n",
       "1                  1                         1                    7   \n",
       "2                  1                         1                    7   \n",
       "3                  1                         1                    7   \n",
       "4                  1                         1                    7   \n",
       "\n",
       "   time_in_hospital  ... citoglipton insulin  glyburide-metformin  \\\n",
       "0                 1  ...          No      No                   No   \n",
       "1                 3  ...          No      Up                   No   \n",
       "2                 2  ...          No      No                   No   \n",
       "3                 2  ...          No      Up                   No   \n",
       "4                 1  ...          No  Steady                   No   \n",
       "\n",
       "   glipizide-metformin  glimepiride-pioglitazone  metformin-rosiglitazone  \\\n",
       "0                   No                        No                       No   \n",
       "1                   No                        No                       No   \n",
       "2                   No                        No                       No   \n",
       "3                   No                        No                       No   \n",
       "4                   No                        No                       No   \n",
       "\n",
       "   metformin-pioglitazone  change diabetesMed readmitted  \n",
       "0                      No      No          No         NO  \n",
       "1                      No      Ch         Yes        >30  \n",
       "2                      No      No         Yes         NO  \n",
       "3                      No      Ch         Yes         NO  \n",
       "4                      No      Ch         Yes         NO  \n",
       "\n",
       "[5 rows x 50 columns]"
      ]
     },
     "execution_count": 3,
     "metadata": {},
     "output_type": "execute_result"
    }
   ],
   "source": [
    "df.head()"
   ]
  },
  {
   "cell_type": "markdown",
   "metadata": {},
   "source": [
    "##### Tipos de datos"
   ]
  },
  {
   "cell_type": "code",
   "execution_count": 4,
   "metadata": {},
   "outputs": [
    {
     "name": "stdout",
     "output_type": "stream",
     "text": [
      "<class 'pandas.core.frame.DataFrame'>\n",
      "RangeIndex: 101766 entries, 0 to 101765\n",
      "Data columns (total 50 columns):\n",
      " #   Column                    Non-Null Count   Dtype \n",
      "---  ------                    --------------   ----- \n",
      " 0   encounter_id              101766 non-null  int64 \n",
      " 1   patient_nbr               101766 non-null  int64 \n",
      " 2   race                      101766 non-null  object\n",
      " 3   gender                    101766 non-null  object\n",
      " 4   age                       101766 non-null  object\n",
      " 5   weight                    101766 non-null  object\n",
      " 6   admission_type_id         101766 non-null  int64 \n",
      " 7   discharge_disposition_id  101766 non-null  int64 \n",
      " 8   admission_source_id       101766 non-null  int64 \n",
      " 9   time_in_hospital          101766 non-null  int64 \n",
      " 10  payer_code                101766 non-null  object\n",
      " 11  medical_specialty         101766 non-null  object\n",
      " 12  num_lab_procedures        101766 non-null  int64 \n",
      " 13  num_procedures            101766 non-null  int64 \n",
      " 14  num_medications           101766 non-null  int64 \n",
      " 15  number_outpatient         101766 non-null  int64 \n",
      " 16  number_emergency          101766 non-null  int64 \n",
      " 17  number_inpatient          101766 non-null  int64 \n",
      " 18  diag_1                    101766 non-null  object\n",
      " 19  diag_2                    101766 non-null  object\n",
      " 20  diag_3                    101766 non-null  object\n",
      " 21  number_diagnoses          101766 non-null  int64 \n",
      " 22  max_glu_serum             101766 non-null  object\n",
      " 23  A1Cresult                 101766 non-null  object\n",
      " 24  metformin                 101766 non-null  object\n",
      " 25  repaglinide               101766 non-null  object\n",
      " 26  nateglinide               101766 non-null  object\n",
      " 27  chlorpropamide            101766 non-null  object\n",
      " 28  glimepiride               101766 non-null  object\n",
      " 29  acetohexamide             101766 non-null  object\n",
      " 30  glipizide                 101766 non-null  object\n",
      " 31  glyburide                 101766 non-null  object\n",
      " 32  tolbutamide               101766 non-null  object\n",
      " 33  pioglitazone              101766 non-null  object\n",
      " 34  rosiglitazone             101766 non-null  object\n",
      " 35  acarbose                  101766 non-null  object\n",
      " 36  miglitol                  101766 non-null  object\n",
      " 37  troglitazone              101766 non-null  object\n",
      " 38  tolazamide                101766 non-null  object\n",
      " 39  examide                   101766 non-null  object\n",
      " 40  citoglipton               101766 non-null  object\n",
      " 41  insulin                   101766 non-null  object\n",
      " 42  glyburide-metformin       101766 non-null  object\n",
      " 43  glipizide-metformin       101766 non-null  object\n",
      " 44  glimepiride-pioglitazone  101766 non-null  object\n",
      " 45  metformin-rosiglitazone   101766 non-null  object\n",
      " 46  metformin-pioglitazone    101766 non-null  object\n",
      " 47  change                    101766 non-null  object\n",
      " 48  diabetesMed               101766 non-null  object\n",
      " 49  readmitted                101766 non-null  object\n",
      "dtypes: int64(13), object(37)\n",
      "memory usage: 38.8+ MB\n"
     ]
    }
   ],
   "source": [
    "df.info()"
   ]
  },
  {
   "cell_type": "markdown",
   "metadata": {},
   "source": [
    "* 101766 puntos de datos (ejemplos) \n",
    "* 50 características, la última \"readmitida\" es nuestro objetivo \n",
    "* Hay algunos datos que faltan, pero `df.info()` no los muestra\n",
    "* Las características son de tipo entero o de objeto (cadena).  "
   ]
  },
  {
   "cell_type": "markdown",
   "metadata": {},
   "source": [
    "##### Statistical Analysis"
   ]
  },
  {
   "cell_type": "code",
   "execution_count": 5,
   "metadata": {
    "scrolled": true
   },
   "outputs": [
    {
     "data": {
      "text/html": [
       "<div>\n",
       "<style scoped>\n",
       "    .dataframe tbody tr th:only-of-type {\n",
       "        vertical-align: middle;\n",
       "    }\n",
       "\n",
       "    .dataframe tbody tr th {\n",
       "        vertical-align: top;\n",
       "    }\n",
       "\n",
       "    .dataframe thead th {\n",
       "        text-align: right;\n",
       "    }\n",
       "</style>\n",
       "<table border=\"1\" class=\"dataframe\">\n",
       "  <thead>\n",
       "    <tr style=\"text-align: right;\">\n",
       "      <th></th>\n",
       "      <th>encounter_id</th>\n",
       "      <th>patient_nbr</th>\n",
       "      <th>admission_type_id</th>\n",
       "      <th>discharge_disposition_id</th>\n",
       "      <th>admission_source_id</th>\n",
       "      <th>time_in_hospital</th>\n",
       "      <th>num_lab_procedures</th>\n",
       "      <th>num_procedures</th>\n",
       "      <th>num_medications</th>\n",
       "      <th>number_outpatient</th>\n",
       "      <th>number_emergency</th>\n",
       "      <th>number_inpatient</th>\n",
       "      <th>number_diagnoses</th>\n",
       "    </tr>\n",
       "  </thead>\n",
       "  <tbody>\n",
       "    <tr>\n",
       "      <th>count</th>\n",
       "      <td>1.017660e+05</td>\n",
       "      <td>1.017660e+05</td>\n",
       "      <td>101766.000000</td>\n",
       "      <td>101766.000000</td>\n",
       "      <td>101766.000000</td>\n",
       "      <td>101766.000000</td>\n",
       "      <td>101766.000000</td>\n",
       "      <td>101766.000000</td>\n",
       "      <td>101766.000000</td>\n",
       "      <td>101766.000000</td>\n",
       "      <td>101766.000000</td>\n",
       "      <td>101766.000000</td>\n",
       "      <td>101766.000000</td>\n",
       "    </tr>\n",
       "    <tr>\n",
       "      <th>mean</th>\n",
       "      <td>1.652016e+08</td>\n",
       "      <td>5.433040e+07</td>\n",
       "      <td>2.024006</td>\n",
       "      <td>3.715642</td>\n",
       "      <td>5.754437</td>\n",
       "      <td>4.395987</td>\n",
       "      <td>43.095641</td>\n",
       "      <td>1.339730</td>\n",
       "      <td>16.021844</td>\n",
       "      <td>0.369357</td>\n",
       "      <td>0.197836</td>\n",
       "      <td>0.635566</td>\n",
       "      <td>7.422607</td>\n",
       "    </tr>\n",
       "    <tr>\n",
       "      <th>std</th>\n",
       "      <td>1.026403e+08</td>\n",
       "      <td>3.869636e+07</td>\n",
       "      <td>1.445403</td>\n",
       "      <td>5.280166</td>\n",
       "      <td>4.064081</td>\n",
       "      <td>2.985108</td>\n",
       "      <td>19.674362</td>\n",
       "      <td>1.705807</td>\n",
       "      <td>8.127566</td>\n",
       "      <td>1.267265</td>\n",
       "      <td>0.930472</td>\n",
       "      <td>1.262863</td>\n",
       "      <td>1.933600</td>\n",
       "    </tr>\n",
       "    <tr>\n",
       "      <th>min</th>\n",
       "      <td>1.252200e+04</td>\n",
       "      <td>1.350000e+02</td>\n",
       "      <td>1.000000</td>\n",
       "      <td>1.000000</td>\n",
       "      <td>1.000000</td>\n",
       "      <td>1.000000</td>\n",
       "      <td>1.000000</td>\n",
       "      <td>0.000000</td>\n",
       "      <td>1.000000</td>\n",
       "      <td>0.000000</td>\n",
       "      <td>0.000000</td>\n",
       "      <td>0.000000</td>\n",
       "      <td>1.000000</td>\n",
       "    </tr>\n",
       "    <tr>\n",
       "      <th>25%</th>\n",
       "      <td>8.496119e+07</td>\n",
       "      <td>2.341322e+07</td>\n",
       "      <td>1.000000</td>\n",
       "      <td>1.000000</td>\n",
       "      <td>1.000000</td>\n",
       "      <td>2.000000</td>\n",
       "      <td>31.000000</td>\n",
       "      <td>0.000000</td>\n",
       "      <td>10.000000</td>\n",
       "      <td>0.000000</td>\n",
       "      <td>0.000000</td>\n",
       "      <td>0.000000</td>\n",
       "      <td>6.000000</td>\n",
       "    </tr>\n",
       "    <tr>\n",
       "      <th>50%</th>\n",
       "      <td>1.523890e+08</td>\n",
       "      <td>4.550514e+07</td>\n",
       "      <td>1.000000</td>\n",
       "      <td>1.000000</td>\n",
       "      <td>7.000000</td>\n",
       "      <td>4.000000</td>\n",
       "      <td>44.000000</td>\n",
       "      <td>1.000000</td>\n",
       "      <td>15.000000</td>\n",
       "      <td>0.000000</td>\n",
       "      <td>0.000000</td>\n",
       "      <td>0.000000</td>\n",
       "      <td>8.000000</td>\n",
       "    </tr>\n",
       "    <tr>\n",
       "      <th>75%</th>\n",
       "      <td>2.302709e+08</td>\n",
       "      <td>8.754595e+07</td>\n",
       "      <td>3.000000</td>\n",
       "      <td>4.000000</td>\n",
       "      <td>7.000000</td>\n",
       "      <td>6.000000</td>\n",
       "      <td>57.000000</td>\n",
       "      <td>2.000000</td>\n",
       "      <td>20.000000</td>\n",
       "      <td>0.000000</td>\n",
       "      <td>0.000000</td>\n",
       "      <td>1.000000</td>\n",
       "      <td>9.000000</td>\n",
       "    </tr>\n",
       "    <tr>\n",
       "      <th>max</th>\n",
       "      <td>4.438672e+08</td>\n",
       "      <td>1.895026e+08</td>\n",
       "      <td>8.000000</td>\n",
       "      <td>28.000000</td>\n",
       "      <td>25.000000</td>\n",
       "      <td>14.000000</td>\n",
       "      <td>132.000000</td>\n",
       "      <td>6.000000</td>\n",
       "      <td>81.000000</td>\n",
       "      <td>42.000000</td>\n",
       "      <td>76.000000</td>\n",
       "      <td>21.000000</td>\n",
       "      <td>16.000000</td>\n",
       "    </tr>\n",
       "  </tbody>\n",
       "</table>\n",
       "</div>"
      ],
      "text/plain": [
       "       encounter_id   patient_nbr  admission_type_id  \\\n",
       "count  1.017660e+05  1.017660e+05      101766.000000   \n",
       "mean   1.652016e+08  5.433040e+07           2.024006   \n",
       "std    1.026403e+08  3.869636e+07           1.445403   \n",
       "min    1.252200e+04  1.350000e+02           1.000000   \n",
       "25%    8.496119e+07  2.341322e+07           1.000000   \n",
       "50%    1.523890e+08  4.550514e+07           1.000000   \n",
       "75%    2.302709e+08  8.754595e+07           3.000000   \n",
       "max    4.438672e+08  1.895026e+08           8.000000   \n",
       "\n",
       "       discharge_disposition_id  admission_source_id  time_in_hospital  \\\n",
       "count             101766.000000        101766.000000     101766.000000   \n",
       "mean                   3.715642             5.754437          4.395987   \n",
       "std                    5.280166             4.064081          2.985108   \n",
       "min                    1.000000             1.000000          1.000000   \n",
       "25%                    1.000000             1.000000          2.000000   \n",
       "50%                    1.000000             7.000000          4.000000   \n",
       "75%                    4.000000             7.000000          6.000000   \n",
       "max                   28.000000            25.000000         14.000000   \n",
       "\n",
       "       num_lab_procedures  num_procedures  num_medications  number_outpatient  \\\n",
       "count       101766.000000   101766.000000    101766.000000      101766.000000   \n",
       "mean            43.095641        1.339730        16.021844           0.369357   \n",
       "std             19.674362        1.705807         8.127566           1.267265   \n",
       "min              1.000000        0.000000         1.000000           0.000000   \n",
       "25%             31.000000        0.000000        10.000000           0.000000   \n",
       "50%             44.000000        1.000000        15.000000           0.000000   \n",
       "75%             57.000000        2.000000        20.000000           0.000000   \n",
       "max            132.000000        6.000000        81.000000          42.000000   \n",
       "\n",
       "       number_emergency  number_inpatient  number_diagnoses  \n",
       "count     101766.000000     101766.000000     101766.000000  \n",
       "mean           0.197836          0.635566          7.422607  \n",
       "std            0.930472          1.262863          1.933600  \n",
       "min            0.000000          0.000000          1.000000  \n",
       "25%            0.000000          0.000000          6.000000  \n",
       "50%            0.000000          0.000000          8.000000  \n",
       "75%            0.000000          1.000000          9.000000  \n",
       "max           76.000000         21.000000         16.000000  "
      ]
     },
     "execution_count": 5,
     "metadata": {},
     "output_type": "execute_result"
    }
   ],
   "source": [
    "df.describe()"
   ]
  },
  {
   "cell_type": "markdown",
   "metadata": {},
   "source": [
    "##### Missing Data Points"
   ]
  },
  {
   "cell_type": "code",
   "execution_count": 6,
   "metadata": {
    "scrolled": true
   },
   "outputs": [
    {
     "data": {
      "text/plain": [
       "[Text(0.5, 1.0, 'Missing Data'),\n",
       " Text(0.5, 14.09375, 'Columns'),\n",
       " Text(33.0, 0.5, 'Data Points')]"
      ]
     },
     "execution_count": 6,
     "metadata": {},
     "output_type": "execute_result"
    },
    {
     "data": {
      "image/png": "[encoded data removed]",
      "text/plain": [
       "<Figure size 432x288 with 2 Axes>"
      ]
     },
     "metadata": {},
     "output_type": "display_data"
    }
   ],
   "source": [
    "sns.heatmap(df.isnull()).set(title = 'Missing Data', xlabel = 'Columns', ylabel = 'Data Points')"
   ]
  },
  {
   "cell_type": "code",
   "execution_count": 7,
   "metadata": {},
   "outputs": [
    {
     "name": "stdout",
     "output_type": "stream",
     "text": [
      "['encounter_id', 'patient_nbr', 'race', 'gender', 'age', 'weight', 'admission_type_id', 'discharge_disposition_id', 'admission_source_id', 'time_in_hospital', 'payer_code', 'medical_specialty', 'num_lab_procedures', 'num_procedures', 'num_medications', 'number_outpatient', 'number_emergency', 'number_inpatient', 'diag_1', 'diag_2', 'diag_3', 'number_diagnoses', 'max_glu_serum', 'A1Cresult', 'metformin', 'repaglinide', 'nateglinide', 'chlorpropamide', 'glimepiride', 'acetohexamide', 'glipizide', 'glyburide', 'tolbutamide', 'pioglitazone', 'rosiglitazone', 'acarbose', 'miglitol', 'troglitazone', 'tolazamide', 'examide', 'citoglipton', 'insulin', 'glyburide-metformin', 'glipizide-metformin', 'glimepiride-pioglitazone', 'metformin-rosiglitazone', 'metformin-pioglitazone', 'change', 'diabetesMed', 'readmitted']\n"
     ]
    }
   ],
   "source": [
    "#names of all features\n",
    "print(list(df))"
   ]
  },
  {
   "cell_type": "markdown",
   "metadata": {},
   "source": [
    "Obsérvese que en la descripción de los datos se menciona que hay unos 70.000 puntos de datos, mientras que en nuestro conjunto de datos hay unos 100.000, lo que significa que hay algunos registros duplicados que deben corregirse. "
   ]
  },
  {
   "cell_type": "markdown",
   "metadata": {},
   "source": [
    "### Limpieza de datos"
   ]
  },
  {
   "cell_type": "markdown",
   "metadata": {},
   "source": [
    "##### Eliminar los puntos de datos duplicados"
   ]
  },
  {
   "cell_type": "markdown",
   "metadata": {},
   "source": [
    "Hay 101.766 puntos de datos en el conjunto de datos, algunos de los cuales son dobles. Utilizaremos la columna `patient_nbr` como referencia, ya que es un número único dado a cada paciente único. "
   ]
  },
  {
   "cell_type": "code",
   "execution_count": 8,
   "metadata": {},
   "outputs": [
    {
     "data": {
      "text/plain": [
       "88785891     40\n",
       "43140906     28\n",
       "23199021     23\n",
       "1660293      23\n",
       "88227540     23\n",
       "             ..\n",
       "71081460      1\n",
       "30060018      1\n",
       "67443444      1\n",
       "141344240     1\n",
       "93251151      1\n",
       "Name: patient_nbr, Length: 71518, dtype: int64"
      ]
     },
     "execution_count": 8,
     "metadata": {},
     "output_type": "execute_result"
    }
   ],
   "source": [
    "#df.groupby(['patient_nbr']).count()\n",
    "df['patient_nbr'].value_counts()"
   ]
  },
  {
   "cell_type": "markdown",
   "metadata": {},
   "source": [
    "Sólo hay 71.518 registros de pacientes únicos de los 101.766 que hay en el conjunto de datos. "
   ]
  },
  {
   "cell_type": "code",
   "execution_count": 9,
   "metadata": {},
   "outputs": [],
   "source": [
    "df = df.drop_duplicates(subset=['patient_nbr'])"
   ]
  },
  {
   "cell_type": "code",
   "execution_count": 10,
   "metadata": {},
   "outputs": [
    {
     "name": "stdout",
     "output_type": "stream",
     "text": [
      "<class 'pandas.core.frame.DataFrame'>\n",
      "Int64Index: 71518 entries, 0 to 101765\n",
      "Data columns (total 50 columns):\n",
      " #   Column                    Non-Null Count  Dtype \n",
      "---  ------                    --------------  ----- \n",
      " 0   encounter_id              71518 non-null  int64 \n",
      " 1   patient_nbr               71518 non-null  int64 \n",
      " 2   race                      71518 non-null  object\n",
      " 3   gender                    71518 non-null  object\n",
      " 4   age                       71518 non-null  object\n",
      " 5   weight                    71518 non-null  object\n",
      " 6   admission_type_id         71518 non-null  int64 \n",
      " 7   discharge_disposition_id  71518 non-null  int64 \n",
      " 8   admission_source_id       71518 non-null  int64 \n",
      " 9   time_in_hospital          71518 non-null  int64 \n",
      " 10  payer_code                71518 non-null  object\n",
      " 11  medical_specialty         71518 non-null  object\n",
      " 12  num_lab_procedures        71518 non-null  int64 \n",
      " 13  num_procedures            71518 non-null  int64 \n",
      " 14  num_medications           71518 non-null  int64 \n",
      " 15  number_outpatient         71518 non-null  int64 \n",
      " 16  number_emergency          71518 non-null  int64 \n",
      " 17  number_inpatient          71518 non-null  int64 \n",
      " 18  diag_1                    71518 non-null  object\n",
      " 19  diag_2                    71518 non-null  object\n",
      " 20  diag_3                    71518 non-null  object\n",
      " 21  number_diagnoses          71518 non-null  int64 \n",
      " 22  max_glu_serum             71518 non-null  object\n",
      " 23  A1Cresult                 71518 non-null  object\n",
      " 24  metformin                 71518 non-null  object\n",
      " 25  repaglinide               71518 non-null  object\n",
      " 26  nateglinide               71518 non-null  object\n",
      " 27  chlorpropamide            71518 non-null  object\n",
      " 28  glimepiride               71518 non-null  object\n",
      " 29  acetohexamide             71518 non-null  object\n",
      " 30  glipizide                 71518 non-null  object\n",
      " 31  glyburide                 71518 non-null  object\n",
      " 32  tolbutamide               71518 non-null  object\n",
      " 33  pioglitazone              71518 non-null  object\n",
      " 34  rosiglitazone             71518 non-null  object\n",
      " 35  acarbose                  71518 non-null  object\n",
      " 36  miglitol                  71518 non-null  object\n",
      " 37  troglitazone              71518 non-null  object\n",
      " 38  tolazamide                71518 non-null  object\n",
      " 39  examide                   71518 non-null  object\n",
      " 40  citoglipton               71518 non-null  object\n",
      " 41  insulin                   71518 non-null  object\n",
      " 42  glyburide-metformin       71518 non-null  object\n",
      " 43  glipizide-metformin       71518 non-null  object\n",
      " 44  glimepiride-pioglitazone  71518 non-null  object\n",
      " 45  metformin-rosiglitazone   71518 non-null  object\n",
      " 46  metformin-pioglitazone    71518 non-null  object\n",
      " 47  change                    71518 non-null  object\n",
      " 48  diabetesMed               71518 non-null  object\n",
      " 49  readmitted                71518 non-null  object\n",
      "dtypes: int64(13), object(37)\n",
      "memory usage: 27.8+ MB\n"
     ]
    }
   ],
   "source": [
    "df.info()"
   ]
  },
  {
   "cell_type": "markdown",
   "metadata": {},
   "source": [
    "Ahora sólo tenemos 71518 filas en nuestro conjunto de datos.  "
   ]
  },
  {
   "cell_type": "markdown",
   "metadata": {},
   "source": [
    "##### Eliminamos las características poco informativas"
   ]
  },
  {
   "cell_type": "markdown",
   "metadata": {},
   "source": [
    "las características no informativas del conjunto de datos (21 en total) se descartaron, como se muestra en la tabla siguiente, debido a una gran cantidad de valores de muestra que faltan (>50%), o debido al hecho de que algunas características no son relevantes para clasificar los datos hacia nuestro objetivo (como la identificación del paciente), o si la característica está desequilibrada (>95% de los puntos de datos tienen el mismo valor para la característica).\n",
    "\n",
    "Característica|Razones de descarte\n",
    "---|---\n",
    "encounter_id|Irrelevante para nuestro objetivo (readmisión)\n",
    "Patient_nbr|Irrelevante para nuestro objetivo (readmitido)\n",
    "Peso| falta el 97% de las muestras\n",
    "Payer_code|Relevante para nuestro objetivo (readmitido)\n",
    "Especialidad_médica|Falta el 53% de las muestras\n",
    "Repaglinida|>100K muestras que no utilizan el medicamento\n",
    "Nateglinida|>100K muestras que no utilizan el fármaco\n",
    "Clorpropamida|>100K muestras que no utilizan el fármaco\n",
    "Acarbosa|>100K muestras que no utilizan el fármaco\n",
    "Miglitol|>100K muestras que no utilizan el fármaco\n",
    "Troglitazona| sólo 3 pacientes utilizan el fármaco\n",
    "Tolazamida| sólo 39 pacientes que utilizan el fármaco\n",
    "Examide| Todos los pacientes que no utilizan el fármaco\n",
    "Citoglipton| todos los pacientes que no utilizan el fármaco\n",
    "Glyburide_metformin|>100K muestras que no utilizan el fármaco\n",
    "Glipizide_metfotmin|Sólo 13 pacientes que utilizan el fármaco\n",
    "Glimepirida_pioglitazona|Sólo 1 paciente utiliza el fármaco\n",
    "Metformin_rosiglitazone|Sólo 2 pacientes que utilizan el fármaco\n",
    "Metformina_pioglitazona|Sólo 1 paciente utiliza el medicamento\n",
    "Acetohexamida|Sólo 1 paciente utiliza el medicamento\n",
    "tolbutamida| sólo 23 pacientes con este fármaco\n"
   ]
  },
  {
   "cell_type": "code",
   "execution_count": 11,
   "metadata": {},
   "outputs": [],
   "source": [
    "features_drop_list = ['encounter_id', 'patient_nbr', 'weight', 'payer_code', 'medical_specialty', 'repaglinide', 'nateglinide', 'chlorpropamide', 'acarbose', 'miglitol', 'troglitazone', 'tolazamide', 'examide', 'citoglipton', 'glyburide-metformin', 'glipizide-metformin', 'glimepiride-pioglitazone', 'metformin-rosiglitazone','metformin-pioglitazone', 'acetohexamide', 'tolbutamide']"
   ]
  },
  {
   "cell_type": "code",
   "execution_count": 12,
   "metadata": {},
   "outputs": [],
   "source": [
    "df.drop(features_drop_list, axis=1,inplace=True)"
   ]
  },
  {
   "cell_type": "code",
   "execution_count": 13,
   "metadata": {},
   "outputs": [
    {
     "name": "stdout",
     "output_type": "stream",
     "text": [
      "<class 'pandas.core.frame.DataFrame'>\n",
      "Int64Index: 71518 entries, 0 to 101765\n",
      "Data columns (total 29 columns):\n",
      " #   Column                    Non-Null Count  Dtype \n",
      "---  ------                    --------------  ----- \n",
      " 0   race                      71518 non-null  object\n",
      " 1   gender                    71518 non-null  object\n",
      " 2   age                       71518 non-null  object\n",
      " 3   admission_type_id         71518 non-null  int64 \n",
      " 4   discharge_disposition_id  71518 non-null  int64 \n",
      " 5   admission_source_id       71518 non-null  int64 \n",
      " 6   time_in_hospital          71518 non-null  int64 \n",
      " 7   num_lab_procedures        71518 non-null  int64 \n",
      " 8   num_procedures            71518 non-null  int64 \n",
      " 9   num_medications           71518 non-null  int64 \n",
      " 10  number_outpatient         71518 non-null  int64 \n",
      " 11  number_emergency          71518 non-null  int64 \n",
      " 12  number_inpatient          71518 non-null  int64 \n",
      " 13  diag_1                    71518 non-null  object\n",
      " 14  diag_2                    71518 non-null  object\n",
      " 15  diag_3                    71518 non-null  object\n",
      " 16  number_diagnoses          71518 non-null  int64 \n",
      " 17  max_glu_serum             71518 non-null  object\n",
      " 18  A1Cresult                 71518 non-null  object\n",
      " 19  metformin                 71518 non-null  object\n",
      " 20  glimepiride               71518 non-null  object\n",
      " 21  glipizide                 71518 non-null  object\n",
      " 22  glyburide                 71518 non-null  object\n",
      " 23  pioglitazone              71518 non-null  object\n",
      " 24  rosiglitazone             71518 non-null  object\n",
      " 25  insulin                   71518 non-null  object\n",
      " 26  change                    71518 non-null  object\n",
      " 27  diabetesMed               71518 non-null  object\n",
      " 28  readmitted                71518 non-null  object\n",
      "dtypes: int64(11), object(18)\n",
      "memory usage: 16.4+ MB\n"
     ]
    }
   ],
   "source": [
    "df.info()"
   ]
  },
  {
   "cell_type": "markdown",
   "metadata": {},
   "source": [
    "##### Arreglo de las características de Diagnóstico"
   ]
  },
  {
   "cell_type": "markdown",
   "metadata": {},
   "source": [
    "Las características del diagrama indican el diagnóstico de la causa del problema de salud del paciente. \n",
    "\n",
    "* diag_1: Primer diagnóstico\n",
    "* diag_2: Segundo diagnóstico\n",
    "* diag_3: Tercer diagnóstico\n",
    "\n",
    "Se codifican en el código CIE-9 (https://en.wikipedia.org/wiki/List_of_ICD-9_codes), lo que da lugar a cientos de categorías distintas. Una forma de simplificar esto, es agrupar cada valor del código CIE-9 en uno de los 18 problemas de salud genéricos, dependiendo de los 3 primeros dígitos como sigue:   \n",
    "\n",
    "   * Lista de códigos CIE-9 001-139: enfermedades infecciosas y parasitarias\n",
    "   * Lista de códigos CIE-9 140-239: neoplasias\n",
    "   * Lista de códigos CIE-9 240-279: enfermedades endocrinas, nutricionales y metabólicas, y trastornos de la inmunidad\n",
    "   * Lista de códigos CIE-9 280-289: enfermedades de la sangre y de los órganos hematopoyéticos\n",
    "   * Lista de códigos CIE-9 290-319: trastornos mentales\n",
    "   * Lista de códigos CIE-9 320-389: enfermedades del sistema nervioso y de los órganos de los sentidos\n",
    "   * Lista de códigos CIE-9 390-459: enfermedades del sistema circulatorio\n",
    "   * Lista de códigos CIE-9 460-519: enfermedades del sistema respiratorio\n",
    "   * Lista de códigos CIE-9 520-579: enfermedades del aparato digestivo\n",
    "   * Lista de códigos CIE-9 580-629: enfermedades del sistema genitourinario\n",
    "   * Lista de códigos CIE-9 630-679: complicaciones del embarazo, el parto y el puerperio\n",
    "   * Lista de códigos CIE-9 680-709: enfermedades de la piel y del tejido subcutáneo\n",
    "   * Lista de códigos CIE-9 710-739: enfermedades del sistema musculoesquelético y del tejido conjuntivo\n",
    "   * Lista de códigos CIE-9 740-759: anomalías congénitas\n",
    "   * Lista de códigos CIE-9 760-779: ciertas afecciones originadas en el periodo perinatal\n",
    "   * Lista de códigos CIE-9 780-799: síntomas, signos y afecciones mal definidas\n",
    "   * Lista de códigos CIE-9 800-999: lesiones e intoxicaciones\n",
    "   * Lista de códigos E y V de la CIE-9: causas externas de lesiones y clasificación suplementaria\n",
    "   \n",
    "   A continuación, completaremos los valores que faltan con los códigos E y V"
   ]
  },
  {
   "cell_type": "code",
   "execution_count": 14,
   "metadata": {},
   "outputs": [],
   "source": [
    "#start by setting all values containing E or V into 0 (as one category)\n",
    "df.loc[df['diag_1'].str.contains('V',na=False,case=False), 'diag_1'] = 0\n",
    "df.loc[df['diag_1'].str.contains('E',na=False,case=False), 'diag_1'] = 0\n",
    "df.loc[df['diag_2'].str.contains('V',na=False,case=False), 'diag_2'] = 0\n",
    "df.loc[df['diag_2'].str.contains('E',na=False,case=False), 'diag_2'] = 0\n",
    "df.loc[df['diag_3'].str.contains('V',na=False,case=False), 'diag_3'] = 0\n",
    "df.loc[df['diag_3'].str.contains('E',na=False,case=False), 'diag_3'] = 0\n",
    "\n",
    "#setting all missing values into -1\n",
    "df['diag_1'] = df['diag_1'].replace('?', -1)\n",
    "df['diag_2'] = df['diag_2'].replace('?', -1)\n",
    "df['diag_3'] = df['diag_3'].replace('?', -1)\n",
    "\n",
    "#No all diag values can be converted into numeric values\n",
    "df['diag_1'] = df['diag_1'].astype(float)\n",
    "df['diag_2'] = df['diag_2'].astype(float)\n",
    "df['diag_3'] = df['diag_3'].astype(float)\n"
   ]
  },
  {
   "cell_type": "code",
   "execution_count": 15,
   "metadata": {},
   "outputs": [
    {
     "name": "stderr",
     "output_type": "stream",
     "text": [
      "C:\\Users\\Luis\\.conda\\envs\\MachineLearning\\lib\\site-packages\\pandas\\core\\indexing.py:670: SettingWithCopyWarning: \n",
      "A value is trying to be set on a copy of a slice from a DataFrame\n",
      "\n",
      "See the caveats in the documentation: https://pandas.pydata.org/pandas-docs/stable/user_guide/indexing.html#returning-a-view-versus-a-copy\n",
      "  iloc._setitem_with_indexer(indexer, value)\n",
      "C:\\Users\\Luis\\.conda\\envs\\MachineLearning\\lib\\site-packages\\pandas\\core\\indexing.py:670: SettingWithCopyWarning: \n",
      "A value is trying to be set on a copy of a slice from a DataFrame\n",
      "\n",
      "See the caveats in the documentation: https://pandas.pydata.org/pandas-docs/stable/user_guide/indexing.html#returning-a-view-versus-a-copy\n",
      "  iloc._setitem_with_indexer(indexer, value)\n",
      "C:\\Users\\Luis\\.conda\\envs\\MachineLearning\\lib\\site-packages\\pandas\\core\\indexing.py:670: SettingWithCopyWarning: \n",
      "A value is trying to be set on a copy of a slice from a DataFrame\n",
      "\n",
      "See the caveats in the documentation: https://pandas.pydata.org/pandas-docs/stable/user_guide/indexing.html#returning-a-view-versus-a-copy\n",
      "  iloc._setitem_with_indexer(indexer, value)\n",
      "C:\\Users\\Luis\\.conda\\envs\\MachineLearning\\lib\\site-packages\\pandas\\core\\indexing.py:670: SettingWithCopyWarning: \n",
      "A value is trying to be set on a copy of a slice from a DataFrame\n",
      "\n",
      "See the caveats in the documentation: https://pandas.pydata.org/pandas-docs/stable/user_guide/indexing.html#returning-a-view-versus-a-copy\n",
      "  iloc._setitem_with_indexer(indexer, value)\n",
      "C:\\Users\\Luis\\.conda\\envs\\MachineLearning\\lib\\site-packages\\pandas\\core\\indexing.py:670: SettingWithCopyWarning: \n",
      "A value is trying to be set on a copy of a slice from a DataFrame\n",
      "\n",
      "See the caveats in the documentation: https://pandas.pydata.org/pandas-docs/stable/user_guide/indexing.html#returning-a-view-versus-a-copy\n",
      "  iloc._setitem_with_indexer(indexer, value)\n",
      "C:\\Users\\Luis\\.conda\\envs\\MachineLearning\\lib\\site-packages\\pandas\\core\\indexing.py:670: SettingWithCopyWarning: \n",
      "A value is trying to be set on a copy of a slice from a DataFrame\n",
      "\n",
      "See the caveats in the documentation: https://pandas.pydata.org/pandas-docs/stable/user_guide/indexing.html#returning-a-view-versus-a-copy\n",
      "  iloc._setitem_with_indexer(indexer, value)\n",
      "C:\\Users\\Luis\\.conda\\envs\\MachineLearning\\lib\\site-packages\\pandas\\core\\indexing.py:670: SettingWithCopyWarning: \n",
      "A value is trying to be set on a copy of a slice from a DataFrame\n",
      "\n",
      "See the caveats in the documentation: https://pandas.pydata.org/pandas-docs/stable/user_guide/indexing.html#returning-a-view-versus-a-copy\n",
      "  iloc._setitem_with_indexer(indexer, value)\n",
      "C:\\Users\\Luis\\.conda\\envs\\MachineLearning\\lib\\site-packages\\pandas\\core\\indexing.py:670: SettingWithCopyWarning: \n",
      "A value is trying to be set on a copy of a slice from a DataFrame\n",
      "\n",
      "See the caveats in the documentation: https://pandas.pydata.org/pandas-docs/stable/user_guide/indexing.html#returning-a-view-versus-a-copy\n",
      "  iloc._setitem_with_indexer(indexer, value)\n",
      "C:\\Users\\Luis\\.conda\\envs\\MachineLearning\\lib\\site-packages\\pandas\\core\\indexing.py:670: SettingWithCopyWarning: \n",
      "A value is trying to be set on a copy of a slice from a DataFrame\n",
      "\n",
      "See the caveats in the documentation: https://pandas.pydata.org/pandas-docs/stable/user_guide/indexing.html#returning-a-view-versus-a-copy\n",
      "  iloc._setitem_with_indexer(indexer, value)\n",
      "C:\\Users\\Luis\\.conda\\envs\\MachineLearning\\lib\\site-packages\\pandas\\core\\indexing.py:670: SettingWithCopyWarning: \n",
      "A value is trying to be set on a copy of a slice from a DataFrame\n",
      "\n",
      "See the caveats in the documentation: https://pandas.pydata.org/pandas-docs/stable/user_guide/indexing.html#returning-a-view-versus-a-copy\n",
      "  iloc._setitem_with_indexer(indexer, value)\n",
      "C:\\Users\\Luis\\.conda\\envs\\MachineLearning\\lib\\site-packages\\pandas\\core\\indexing.py:670: SettingWithCopyWarning: \n",
      "A value is trying to be set on a copy of a slice from a DataFrame\n",
      "\n",
      "See the caveats in the documentation: https://pandas.pydata.org/pandas-docs/stable/user_guide/indexing.html#returning-a-view-versus-a-copy\n",
      "  iloc._setitem_with_indexer(indexer, value)\n",
      "C:\\Users\\Luis\\.conda\\envs\\MachineLearning\\lib\\site-packages\\pandas\\core\\indexing.py:670: SettingWithCopyWarning: \n",
      "A value is trying to be set on a copy of a slice from a DataFrame\n",
      "\n",
      "See the caveats in the documentation: https://pandas.pydata.org/pandas-docs/stable/user_guide/indexing.html#returning-a-view-versus-a-copy\n",
      "  iloc._setitem_with_indexer(indexer, value)\n",
      "C:\\Users\\Luis\\.conda\\envs\\MachineLearning\\lib\\site-packages\\pandas\\core\\indexing.py:670: SettingWithCopyWarning: \n",
      "A value is trying to be set on a copy of a slice from a DataFrame\n",
      "\n",
      "See the caveats in the documentation: https://pandas.pydata.org/pandas-docs/stable/user_guide/indexing.html#returning-a-view-versus-a-copy\n",
      "  iloc._setitem_with_indexer(indexer, value)\n",
      "C:\\Users\\Luis\\.conda\\envs\\MachineLearning\\lib\\site-packages\\pandas\\core\\indexing.py:670: SettingWithCopyWarning: \n",
      "A value is trying to be set on a copy of a slice from a DataFrame\n",
      "\n",
      "See the caveats in the documentation: https://pandas.pydata.org/pandas-docs/stable/user_guide/indexing.html#returning-a-view-versus-a-copy\n",
      "  iloc._setitem_with_indexer(indexer, value)\n",
      "C:\\Users\\Luis\\.conda\\envs\\MachineLearning\\lib\\site-packages\\pandas\\core\\indexing.py:670: SettingWithCopyWarning: \n",
      "A value is trying to be set on a copy of a slice from a DataFrame\n",
      "\n",
      "See the caveats in the documentation: https://pandas.pydata.org/pandas-docs/stable/user_guide/indexing.html#returning-a-view-versus-a-copy\n",
      "  iloc._setitem_with_indexer(indexer, value)\n",
      "C:\\Users\\Luis\\.conda\\envs\\MachineLearning\\lib\\site-packages\\pandas\\core\\indexing.py:670: SettingWithCopyWarning: \n",
      "A value is trying to be set on a copy of a slice from a DataFrame\n",
      "\n",
      "See the caveats in the documentation: https://pandas.pydata.org/pandas-docs/stable/user_guide/indexing.html#returning-a-view-versus-a-copy\n",
      "  iloc._setitem_with_indexer(indexer, value)\n",
      "C:\\Users\\Luis\\.conda\\envs\\MachineLearning\\lib\\site-packages\\pandas\\core\\indexing.py:670: SettingWithCopyWarning: \n",
      "A value is trying to be set on a copy of a slice from a DataFrame\n",
      "\n",
      "See the caveats in the documentation: https://pandas.pydata.org/pandas-docs/stable/user_guide/indexing.html#returning-a-view-versus-a-copy\n",
      "  iloc._setitem_with_indexer(indexer, value)\n",
      "C:\\Users\\Luis\\.conda\\envs\\MachineLearning\\lib\\site-packages\\pandas\\core\\indexing.py:670: SettingWithCopyWarning: \n",
      "A value is trying to be set on a copy of a slice from a DataFrame\n",
      "\n",
      "See the caveats in the documentation: https://pandas.pydata.org/pandas-docs/stable/user_guide/indexing.html#returning-a-view-versus-a-copy\n",
      "  iloc._setitem_with_indexer(indexer, value)\n",
      "C:\\Users\\Luis\\.conda\\envs\\MachineLearning\\lib\\site-packages\\pandas\\core\\indexing.py:670: SettingWithCopyWarning: \n",
      "A value is trying to be set on a copy of a slice from a DataFrame\n",
      "\n",
      "See the caveats in the documentation: https://pandas.pydata.org/pandas-docs/stable/user_guide/indexing.html#returning-a-view-versus-a-copy\n",
      "  iloc._setitem_with_indexer(indexer, value)\n",
      "C:\\Users\\Luis\\.conda\\envs\\MachineLearning\\lib\\site-packages\\pandas\\core\\indexing.py:670: SettingWithCopyWarning: \n",
      "A value is trying to be set on a copy of a slice from a DataFrame\n",
      "\n",
      "See the caveats in the documentation: https://pandas.pydata.org/pandas-docs/stable/user_guide/indexing.html#returning-a-view-versus-a-copy\n",
      "  iloc._setitem_with_indexer(indexer, value)\n",
      "C:\\Users\\Luis\\.conda\\envs\\MachineLearning\\lib\\site-packages\\pandas\\core\\indexing.py:670: SettingWithCopyWarning: \n",
      "A value is trying to be set on a copy of a slice from a DataFrame\n",
      "\n",
      "See the caveats in the documentation: https://pandas.pydata.org/pandas-docs/stable/user_guide/indexing.html#returning-a-view-versus-a-copy\n",
      "  iloc._setitem_with_indexer(indexer, value)\n",
      "C:\\Users\\Luis\\.conda\\envs\\MachineLearning\\lib\\site-packages\\pandas\\core\\indexing.py:670: SettingWithCopyWarning: \n",
      "A value is trying to be set on a copy of a slice from a DataFrame\n",
      "\n",
      "See the caveats in the documentation: https://pandas.pydata.org/pandas-docs/stable/user_guide/indexing.html#returning-a-view-versus-a-copy\n",
      "  iloc._setitem_with_indexer(indexer, value)\n",
      "C:\\Users\\Luis\\.conda\\envs\\MachineLearning\\lib\\site-packages\\pandas\\core\\indexing.py:670: SettingWithCopyWarning: \n",
      "A value is trying to be set on a copy of a slice from a DataFrame\n",
      "\n",
      "See the caveats in the documentation: https://pandas.pydata.org/pandas-docs/stable/user_guide/indexing.html#returning-a-view-versus-a-copy\n",
      "  iloc._setitem_with_indexer(indexer, value)\n",
      "C:\\Users\\Luis\\.conda\\envs\\MachineLearning\\lib\\site-packages\\pandas\\core\\indexing.py:670: SettingWithCopyWarning: \n",
      "A value is trying to be set on a copy of a slice from a DataFrame\n",
      "\n",
      "See the caveats in the documentation: https://pandas.pydata.org/pandas-docs/stable/user_guide/indexing.html#returning-a-view-versus-a-copy\n",
      "  iloc._setitem_with_indexer(indexer, value)\n",
      "C:\\Users\\Luis\\.conda\\envs\\MachineLearning\\lib\\site-packages\\pandas\\core\\indexing.py:670: SettingWithCopyWarning: \n",
      "A value is trying to be set on a copy of a slice from a DataFrame\n",
      "\n",
      "See the caveats in the documentation: https://pandas.pydata.org/pandas-docs/stable/user_guide/indexing.html#returning-a-view-versus-a-copy\n",
      "  iloc._setitem_with_indexer(indexer, value)\n",
      "C:\\Users\\Luis\\.conda\\envs\\MachineLearning\\lib\\site-packages\\pandas\\core\\indexing.py:670: SettingWithCopyWarning: \n",
      "A value is trying to be set on a copy of a slice from a DataFrame\n",
      "\n",
      "See the caveats in the documentation: https://pandas.pydata.org/pandas-docs/stable/user_guide/indexing.html#returning-a-view-versus-a-copy\n",
      "  iloc._setitem_with_indexer(indexer, value)\n",
      "C:\\Users\\Luis\\.conda\\envs\\MachineLearning\\lib\\site-packages\\pandas\\core\\indexing.py:670: SettingWithCopyWarning: \n",
      "A value is trying to be set on a copy of a slice from a DataFrame\n",
      "\n",
      "See the caveats in the documentation: https://pandas.pydata.org/pandas-docs/stable/user_guide/indexing.html#returning-a-view-versus-a-copy\n",
      "  iloc._setitem_with_indexer(indexer, value)\n",
      "C:\\Users\\Luis\\.conda\\envs\\MachineLearning\\lib\\site-packages\\pandas\\core\\indexing.py:670: SettingWithCopyWarning: \n",
      "A value is trying to be set on a copy of a slice from a DataFrame\n",
      "\n",
      "See the caveats in the documentation: https://pandas.pydata.org/pandas-docs/stable/user_guide/indexing.html#returning-a-view-versus-a-copy\n",
      "  iloc._setitem_with_indexer(indexer, value)\n",
      "C:\\Users\\Luis\\.conda\\envs\\MachineLearning\\lib\\site-packages\\pandas\\core\\indexing.py:670: SettingWithCopyWarning: \n",
      "A value is trying to be set on a copy of a slice from a DataFrame\n",
      "\n",
      "See the caveats in the documentation: https://pandas.pydata.org/pandas-docs/stable/user_guide/indexing.html#returning-a-view-versus-a-copy\n",
      "  iloc._setitem_with_indexer(indexer, value)\n",
      "C:\\Users\\Luis\\.conda\\envs\\MachineLearning\\lib\\site-packages\\pandas\\core\\indexing.py:670: SettingWithCopyWarning: \n",
      "A value is trying to be set on a copy of a slice from a DataFrame\n",
      "\n",
      "See the caveats in the documentation: https://pandas.pydata.org/pandas-docs/stable/user_guide/indexing.html#returning-a-view-versus-a-copy\n",
      "  iloc._setitem_with_indexer(indexer, value)\n",
      "C:\\Users\\Luis\\.conda\\envs\\MachineLearning\\lib\\site-packages\\pandas\\core\\indexing.py:670: SettingWithCopyWarning: \n",
      "A value is trying to be set on a copy of a slice from a DataFrame\n",
      "\n",
      "See the caveats in the documentation: https://pandas.pydata.org/pandas-docs/stable/user_guide/indexing.html#returning-a-view-versus-a-copy\n",
      "  iloc._setitem_with_indexer(indexer, value)\n",
      "C:\\Users\\Luis\\.conda\\envs\\MachineLearning\\lib\\site-packages\\pandas\\core\\indexing.py:670: SettingWithCopyWarning: \n",
      "A value is trying to be set on a copy of a slice from a DataFrame\n",
      "\n",
      "See the caveats in the documentation: https://pandas.pydata.org/pandas-docs/stable/user_guide/indexing.html#returning-a-view-versus-a-copy\n",
      "  iloc._setitem_with_indexer(indexer, value)\n",
      "C:\\Users\\Luis\\.conda\\envs\\MachineLearning\\lib\\site-packages\\pandas\\core\\indexing.py:670: SettingWithCopyWarning: \n",
      "A value is trying to be set on a copy of a slice from a DataFrame\n",
      "\n",
      "See the caveats in the documentation: https://pandas.pydata.org/pandas-docs/stable/user_guide/indexing.html#returning-a-view-versus-a-copy\n",
      "  iloc._setitem_with_indexer(indexer, value)\n",
      "C:\\Users\\Luis\\.conda\\envs\\MachineLearning\\lib\\site-packages\\pandas\\core\\indexing.py:670: SettingWithCopyWarning: \n",
      "A value is trying to be set on a copy of a slice from a DataFrame\n",
      "\n",
      "See the caveats in the documentation: https://pandas.pydata.org/pandas-docs/stable/user_guide/indexing.html#returning-a-view-versus-a-copy\n",
      "  iloc._setitem_with_indexer(indexer, value)\n",
      "C:\\Users\\Luis\\.conda\\envs\\MachineLearning\\lib\\site-packages\\pandas\\core\\indexing.py:670: SettingWithCopyWarning: \n",
      "A value is trying to be set on a copy of a slice from a DataFrame\n",
      "\n",
      "See the caveats in the documentation: https://pandas.pydata.org/pandas-docs/stable/user_guide/indexing.html#returning-a-view-versus-a-copy\n",
      "  iloc._setitem_with_indexer(indexer, value)\n",
      "C:\\Users\\Luis\\.conda\\envs\\MachineLearning\\lib\\site-packages\\pandas\\core\\indexing.py:670: SettingWithCopyWarning: \n",
      "A value is trying to be set on a copy of a slice from a DataFrame\n",
      "\n",
      "See the caveats in the documentation: https://pandas.pydata.org/pandas-docs/stable/user_guide/indexing.html#returning-a-view-versus-a-copy\n",
      "  iloc._setitem_with_indexer(indexer, value)\n",
      "C:\\Users\\Luis\\.conda\\envs\\MachineLearning\\lib\\site-packages\\pandas\\core\\indexing.py:670: SettingWithCopyWarning: \n",
      "A value is trying to be set on a copy of a slice from a DataFrame\n",
      "\n",
      "See the caveats in the documentation: https://pandas.pydata.org/pandas-docs/stable/user_guide/indexing.html#returning-a-view-versus-a-copy\n",
      "  iloc._setitem_with_indexer(indexer, value)\n",
      "C:\\Users\\Luis\\.conda\\envs\\MachineLearning\\lib\\site-packages\\pandas\\core\\indexing.py:670: SettingWithCopyWarning: \n",
      "A value is trying to be set on a copy of a slice from a DataFrame\n",
      "\n",
      "See the caveats in the documentation: https://pandas.pydata.org/pandas-docs/stable/user_guide/indexing.html#returning-a-view-versus-a-copy\n",
      "  iloc._setitem_with_indexer(indexer, value)\n",
      "C:\\Users\\Luis\\.conda\\envs\\MachineLearning\\lib\\site-packages\\pandas\\core\\indexing.py:670: SettingWithCopyWarning: \n",
      "A value is trying to be set on a copy of a slice from a DataFrame\n",
      "\n",
      "See the caveats in the documentation: https://pandas.pydata.org/pandas-docs/stable/user_guide/indexing.html#returning-a-view-versus-a-copy\n",
      "  iloc._setitem_with_indexer(indexer, value)\n",
      "C:\\Users\\Luis\\.conda\\envs\\MachineLearning\\lib\\site-packages\\pandas\\core\\indexing.py:670: SettingWithCopyWarning: \n",
      "A value is trying to be set on a copy of a slice from a DataFrame\n",
      "\n",
      "See the caveats in the documentation: https://pandas.pydata.org/pandas-docs/stable/user_guide/indexing.html#returning-a-view-versus-a-copy\n",
      "  iloc._setitem_with_indexer(indexer, value)\n",
      "C:\\Users\\Luis\\.conda\\envs\\MachineLearning\\lib\\site-packages\\pandas\\core\\indexing.py:670: SettingWithCopyWarning: \n",
      "A value is trying to be set on a copy of a slice from a DataFrame\n",
      "\n",
      "See the caveats in the documentation: https://pandas.pydata.org/pandas-docs/stable/user_guide/indexing.html#returning-a-view-versus-a-copy\n",
      "  iloc._setitem_with_indexer(indexer, value)\n",
      "C:\\Users\\Luis\\.conda\\envs\\MachineLearning\\lib\\site-packages\\pandas\\core\\indexing.py:670: SettingWithCopyWarning: \n",
      "A value is trying to be set on a copy of a slice from a DataFrame\n",
      "\n",
      "See the caveats in the documentation: https://pandas.pydata.org/pandas-docs/stable/user_guide/indexing.html#returning-a-view-versus-a-copy\n",
      "  iloc._setitem_with_indexer(indexer, value)\n",
      "C:\\Users\\Luis\\.conda\\envs\\MachineLearning\\lib\\site-packages\\pandas\\core\\indexing.py:670: SettingWithCopyWarning: \n",
      "A value is trying to be set on a copy of a slice from a DataFrame\n",
      "\n",
      "See the caveats in the documentation: https://pandas.pydata.org/pandas-docs/stable/user_guide/indexing.html#returning-a-view-versus-a-copy\n",
      "  iloc._setitem_with_indexer(indexer, value)\n",
      "C:\\Users\\Luis\\.conda\\envs\\MachineLearning\\lib\\site-packages\\pandas\\core\\indexing.py:670: SettingWithCopyWarning: \n",
      "A value is trying to be set on a copy of a slice from a DataFrame\n",
      "\n",
      "See the caveats in the documentation: https://pandas.pydata.org/pandas-docs/stable/user_guide/indexing.html#returning-a-view-versus-a-copy\n",
      "  iloc._setitem_with_indexer(indexer, value)\n",
      "C:\\Users\\Luis\\.conda\\envs\\MachineLearning\\lib\\site-packages\\pandas\\core\\indexing.py:670: SettingWithCopyWarning: \n",
      "A value is trying to be set on a copy of a slice from a DataFrame\n",
      "\n",
      "See the caveats in the documentation: https://pandas.pydata.org/pandas-docs/stable/user_guide/indexing.html#returning-a-view-versus-a-copy\n",
      "  iloc._setitem_with_indexer(indexer, value)\n",
      "C:\\Users\\Luis\\.conda\\envs\\MachineLearning\\lib\\site-packages\\pandas\\core\\indexing.py:670: SettingWithCopyWarning: \n",
      "A value is trying to be set on a copy of a slice from a DataFrame\n",
      "\n",
      "See the caveats in the documentation: https://pandas.pydata.org/pandas-docs/stable/user_guide/indexing.html#returning-a-view-versus-a-copy\n",
      "  iloc._setitem_with_indexer(indexer, value)\n",
      "C:\\Users\\Luis\\.conda\\envs\\MachineLearning\\lib\\site-packages\\pandas\\core\\indexing.py:670: SettingWithCopyWarning: \n",
      "A value is trying to be set on a copy of a slice from a DataFrame\n",
      "\n",
      "See the caveats in the documentation: https://pandas.pydata.org/pandas-docs/stable/user_guide/indexing.html#returning-a-view-versus-a-copy\n",
      "  iloc._setitem_with_indexer(indexer, value)\n",
      "C:\\Users\\Luis\\.conda\\envs\\MachineLearning\\lib\\site-packages\\pandas\\core\\indexing.py:670: SettingWithCopyWarning: \n",
      "A value is trying to be set on a copy of a slice from a DataFrame\n",
      "\n",
      "See the caveats in the documentation: https://pandas.pydata.org/pandas-docs/stable/user_guide/indexing.html#returning-a-view-versus-a-copy\n",
      "  iloc._setitem_with_indexer(indexer, value)\n",
      "C:\\Users\\Luis\\.conda\\envs\\MachineLearning\\lib\\site-packages\\pandas\\core\\indexing.py:670: SettingWithCopyWarning: \n",
      "A value is trying to be set on a copy of a slice from a DataFrame\n",
      "\n",
      "See the caveats in the documentation: https://pandas.pydata.org/pandas-docs/stable/user_guide/indexing.html#returning-a-view-versus-a-copy\n",
      "  iloc._setitem_with_indexer(indexer, value)\n",
      "C:\\Users\\Luis\\.conda\\envs\\MachineLearning\\lib\\site-packages\\pandas\\core\\indexing.py:670: SettingWithCopyWarning: \n",
      "A value is trying to be set on a copy of a slice from a DataFrame\n",
      "\n",
      "See the caveats in the documentation: https://pandas.pydata.org/pandas-docs/stable/user_guide/indexing.html#returning-a-view-versus-a-copy\n",
      "  iloc._setitem_with_indexer(indexer, value)\n",
      "C:\\Users\\Luis\\.conda\\envs\\MachineLearning\\lib\\site-packages\\pandas\\core\\indexing.py:670: SettingWithCopyWarning: \n",
      "A value is trying to be set on a copy of a slice from a DataFrame\n",
      "\n",
      "See the caveats in the documentation: https://pandas.pydata.org/pandas-docs/stable/user_guide/indexing.html#returning-a-view-versus-a-copy\n",
      "  iloc._setitem_with_indexer(indexer, value)\n",
      "C:\\Users\\Luis\\.conda\\envs\\MachineLearning\\lib\\site-packages\\pandas\\core\\indexing.py:670: SettingWithCopyWarning: \n",
      "A value is trying to be set on a copy of a slice from a DataFrame\n",
      "\n",
      "See the caveats in the documentation: https://pandas.pydata.org/pandas-docs/stable/user_guide/indexing.html#returning-a-view-versus-a-copy\n",
      "  iloc._setitem_with_indexer(indexer, value)\n",
      "C:\\Users\\Luis\\.conda\\envs\\MachineLearning\\lib\\site-packages\\pandas\\core\\indexing.py:670: SettingWithCopyWarning: \n",
      "A value is trying to be set on a copy of a slice from a DataFrame\n",
      "\n",
      "See the caveats in the documentation: https://pandas.pydata.org/pandas-docs/stable/user_guide/indexing.html#returning-a-view-versus-a-copy\n",
      "  iloc._setitem_with_indexer(indexer, value)\n",
      "C:\\Users\\Luis\\.conda\\envs\\MachineLearning\\lib\\site-packages\\pandas\\core\\indexing.py:670: SettingWithCopyWarning: \n",
      "A value is trying to be set on a copy of a slice from a DataFrame\n",
      "\n",
      "See the caveats in the documentation: https://pandas.pydata.org/pandas-docs/stable/user_guide/indexing.html#returning-a-view-versus-a-copy\n",
      "  iloc._setitem_with_indexer(indexer, value)\n"
     ]
    }
   ],
   "source": [
    "#Now we will reduce the number of categories in diag features according to ICD-9 code\n",
    "#(Missing values will be grouped as E & V values)\n",
    "df['diag_1'].loc[(df['diag_1']>=1) & (df['diag_1']< 140)] = 1\n",
    "df['diag_1'].loc[(df['diag_1']>=140) & (df['diag_1']< 240)] = 2\n",
    "df['diag_1'].loc[(df['diag_1']>=240) & (df['diag_1']< 280)] = 3\n",
    "df['diag_1'].loc[(df['diag_1']>=280) & (df['diag_1']< 290)] = 4\n",
    "df['diag_1'].loc[(df['diag_1']>=290) & (df['diag_1']< 320)] = 5\n",
    "df['diag_1'].loc[(df['diag_1']>=320) & (df['diag_1']< 390)] = 6\n",
    "df['diag_1'].loc[(df['diag_1']>=390) & (df['diag_1']< 460)] = 7\n",
    "df['diag_1'].loc[(df['diag_1']>=460) & (df['diag_1']< 520)] = 8\n",
    "df['diag_1'].loc[(df['diag_1']>=520) & (df['diag_1']< 580)] = 9\n",
    "df['diag_1'].loc[(df['diag_1']>=580) & (df['diag_1']< 630)] = 10\n",
    "df['diag_1'].loc[(df['diag_1']>=630) & (df['diag_1']< 680)] = 11\n",
    "df['diag_1'].loc[(df['diag_1']>=680) & (df['diag_1']< 710)] = 12\n",
    "df['diag_1'].loc[(df['diag_1']>=710) & (df['diag_1']< 740)] = 13\n",
    "df['diag_1'].loc[(df['diag_1']>=740) & (df['diag_1']< 760)] = 14\n",
    "df['diag_1'].loc[(df['diag_1']>=760) & (df['diag_1']< 780)] = 15\n",
    "df['diag_1'].loc[(df['diag_1']>=780) & (df['diag_1']< 800)] = 16\n",
    "df['diag_1'].loc[(df['diag_1']>=800) & (df['diag_1']< 1000)] = 17\n",
    "df['diag_1'].loc[(df['diag_1']==-1)] = 0\n",
    "\n",
    "df['diag_2'].loc[(df['diag_2']>=1) & (df['diag_2']< 140)] = 1\n",
    "df['diag_2'].loc[(df['diag_2']>=140) & (df['diag_2']< 240)] = 2\n",
    "df['diag_2'].loc[(df['diag_2']>=240) & (df['diag_2']< 280)] = 3\n",
    "df['diag_2'].loc[(df['diag_2']>=280) & (df['diag_2']< 290)] = 4\n",
    "df['diag_2'].loc[(df['diag_2']>=290) & (df['diag_2']< 320)] = 5\n",
    "df['diag_2'].loc[(df['diag_2']>=320) & (df['diag_2']< 390)] = 6\n",
    "df['diag_2'].loc[(df['diag_2']>=390) & (df['diag_2']< 460)] = 7\n",
    "df['diag_2'].loc[(df['diag_2']>=460) & (df['diag_2']< 520)] = 8\n",
    "df['diag_2'].loc[(df['diag_2']>=520) & (df['diag_2']< 580)] = 9\n",
    "df['diag_2'].loc[(df['diag_2']>=580) & (df['diag_2']< 630)] = 10\n",
    "df['diag_2'].loc[(df['diag_2']>=630) & (df['diag_2']< 680)] = 11\n",
    "df['diag_2'].loc[(df['diag_2']>=680) & (df['diag_2']< 710)] = 12\n",
    "df['diag_2'].loc[(df['diag_2']>=710) & (df['diag_2']< 740)] = 13\n",
    "df['diag_2'].loc[(df['diag_2']>=740) & (df['diag_2']< 760)] = 14\n",
    "df['diag_2'].loc[(df['diag_2']>=760) & (df['diag_2']< 780)] = 15\n",
    "df['diag_2'].loc[(df['diag_2']>=780) & (df['diag_2']< 800)] = 16\n",
    "df['diag_2'].loc[(df['diag_2']>=800) & (df['diag_2']< 1000)] = 17\n",
    "df['diag_2'].loc[(df['diag_2']==-1)] = 0\n",
    "\n",
    "df['diag_3'].loc[(df['diag_3']>=1) & (df['diag_3']< 140)] = 1\n",
    "df['diag_3'].loc[(df['diag_3']>=140) & (df['diag_3']< 240)] = 2\n",
    "df['diag_3'].loc[(df['diag_3']>=240) & (df['diag_3']< 280)] = 3\n",
    "df['diag_3'].loc[(df['diag_3']>=280) & (df['diag_3']< 290)] = 4\n",
    "df['diag_3'].loc[(df['diag_3']>=290) & (df['diag_3']< 320)] = 5\n",
    "df['diag_3'].loc[(df['diag_3']>=320) & (df['diag_3']< 390)] = 6\n",
    "df['diag_3'].loc[(df['diag_3']>=390) & (df['diag_3']< 460)] = 7\n",
    "df['diag_3'].loc[(df['diag_3']>=460) & (df['diag_3']< 520)] = 8\n",
    "df['diag_3'].loc[(df['diag_3']>=520) & (df['diag_3']< 580)] = 9\n",
    "df['diag_3'].loc[(df['diag_3']>=580) & (df['diag_3']< 630)] = 10\n",
    "df['diag_3'].loc[(df['diag_3']>=630) & (df['diag_3']< 680)] = 11\n",
    "df['diag_3'].loc[(df['diag_3']>=680) & (df['diag_3']< 710)] = 12\n",
    "df['diag_3'].loc[(df['diag_3']>=710) & (df['diag_3']< 740)] = 13\n",
    "df['diag_3'].loc[(df['diag_3']>=740) & (df['diag_3']< 760)] = 14\n",
    "df['diag_3'].loc[(df['diag_3']>=760) & (df['diag_3']< 780)] = 15\n",
    "df['diag_3'].loc[(df['diag_3']>=780) & (df['diag_3']< 800)] = 16\n",
    "df['diag_3'].loc[(df['diag_3']>=800) & (df['diag_3']< 1000)] = 17\n",
    "df['diag_3'].loc[(df['diag_3']==-1)] = 0"
   ]
  },
  {
   "cell_type": "code",
   "execution_count": 16,
   "metadata": {},
   "outputs": [
    {
     "data": {
      "text/plain": [
       "array([ 3., 11.,  1.,  2.,  7.,  8., 17., 12., 13.,  9.,  0., 16., 10.,\n",
       "        5.,  6.,  4., 14.])"
      ]
     },
     "execution_count": 16,
     "metadata": {},
     "output_type": "execute_result"
    }
   ],
   "source": [
    "#check the results\n",
    "df.diag_1.unique()"
   ]
  },
  {
   "cell_type": "markdown",
   "metadata": {},
   "source": [
    "##### Race Feature Fix\n",
    "\n"
   ]
  },
  {
   "cell_type": "markdown",
   "metadata": {},
   "source": [
    "Aquí sustituiremos los valores de los puntos de datos que faltan por la categoría \"Otros\", ya que lo más probable es que las personas que omiten rellenar su raza lo hayan hecho porque no pudieron encontrar su raza en las opciones. "
   ]
  },
  {
   "cell_type": "code",
   "execution_count": 17,
   "metadata": {},
   "outputs": [],
   "source": [
    "df['race'] = df['race'].replace('?', 'Other')\n",
    "df['race'] = df['race'].replace('Caucasian', 'Caucásico')\n",
    "df['race'] = df['race'].replace('AfricanAmerican', 'Afroamericano')\n",
    "df['race'] = df['race'].replace('Hispanic', 'Hispano')\n",
    "df['race'] = df['race'].replace('Asian', 'Asiáticos')\n",
    "# Afroamericano\n"
   ]
  },
  {
   "cell_type": "code",
   "execution_count": 18,
   "metadata": {},
   "outputs": [
    {
     "data": {
      "text/plain": [
       "Caucásico        53491\n",
       "Afroamericano    12887\n",
       "Other             3126\n",
       "Hispano           1517\n",
       "Asiáticos          497\n",
       "Name: race, dtype: int64"
      ]
     },
     "execution_count": 18,
     "metadata": {},
     "output_type": "execute_result"
    }
   ],
   "source": [
    "df.race.value_counts()"
   ]
  },
  {
   "cell_type": "markdown",
   "metadata": {},
   "source": [
    "##### Gender Feature Fix"
   ]
  },
  {
   "cell_type": "code",
   "execution_count": 19,
   "metadata": {},
   "outputs": [
    {
     "data": {
      "text/plain": [
       "Female             38025\n",
       "Male               33490\n",
       "Unknown/Invalid        3\n",
       "Name: gender, dtype: int64"
      ]
     },
     "execution_count": 19,
     "metadata": {},
     "output_type": "execute_result"
    }
   ],
   "source": [
    "df.gender.value_counts()"
   ]
  },
  {
   "cell_type": "code",
   "execution_count": 20,
   "metadata": {},
   "outputs": [
    {
     "data": {
      "text/plain": [
       "Female    38028\n",
       "Male      33490\n",
       "Name: gender, dtype: int64"
      ]
     },
     "execution_count": 20,
     "metadata": {},
     "output_type": "execute_result"
    }
   ],
   "source": [
    "df['gender'] = df['gender'].replace('Unknown/Invalid', 'Female')\n",
    "df.gender.value_counts()"
   ]
  },
  {
   "cell_type": "markdown",
   "metadata": {},
   "source": [
    "Ahora podemos cambiar fácilmente Masculino/Femenino en 1/0"
   ]
  },
  {
   "cell_type": "code",
   "execution_count": 21,
   "metadata": {},
   "outputs": [
    {
     "data": {
      "text/plain": [
       "Femenino     38028\n",
       "Masculino    33490\n",
       "Name: gender, dtype: int64"
      ]
     },
     "execution_count": 21,
     "metadata": {},
     "output_type": "execute_result"
    }
   ],
   "source": [
    "# df['gender'] = df['gender'].replace('Male', 1)\n",
    "# df['gender'] = df['gender'].replace('Female', 0)\n",
    "df['gender'] = df['gender'].replace('Male', 'Masculino')\n",
    "df['gender'] = df['gender'].replace('Female', 'Femenino')\n",
    "\n",
    "df.gender.value_counts()"
   ]
  },
  {
   "cell_type": "markdown",
   "metadata": {},
   "source": [
    "##### Arreglo de la característica de edad"
   ]
  },
  {
   "cell_type": "markdown",
   "metadata": {},
   "source": [
    "Para la edad, tenemos 10 categorías, cada una de las cuales representa un rango de 10 años desde [0-10] hasta [90-100]. Las sustituiremos por la edad media de cada rango de edad: \n",
    "por ejemplo (0,10] se replegará con 5; (60, 70] se sustituirá por 65; y así sucesivamente. "
   ]
  },
  {
   "cell_type": "code",
   "execution_count": 22,
   "metadata": {},
   "outputs": [
    {
     "data": {
      "text/plain": [
       "[70-80)     18210\n",
       "[60-70)     15960\n",
       "[50-60)     12466\n",
       "[80-90)     11589\n",
       "[40-50)      6878\n",
       "[30-40)      2699\n",
       "[90-100)     1900\n",
       "[20-30)      1127\n",
       "[10-20)       535\n",
       "[0-10)        154\n",
       "Name: age, dtype: int64"
      ]
     },
     "execution_count": 22,
     "metadata": {},
     "output_type": "execute_result"
    }
   ],
   "source": [
    "df.age.value_counts()"
   ]
  },
  {
   "cell_type": "code",
   "execution_count": 23,
   "metadata": {},
   "outputs": [
    {
     "data": {
      "text/plain": [
       "75    18210\n",
       "65    15960\n",
       "55    12466\n",
       "85    11589\n",
       "45     6878\n",
       "35     2699\n",
       "95     1900\n",
       "25     1127\n",
       "15      535\n",
       "5       154\n",
       "Name: age, dtype: int64"
      ]
     },
     "execution_count": 23,
     "metadata": {},
     "output_type": "execute_result"
    }
   ],
   "source": [
    "for i in range(0,10):\n",
    "    df['age'] = df['age'].replace('['+str(10*i)+'-'+str(10*(i+1))+')', i*10+5)\n",
    "df['age'].value_counts()"
   ]
  },
  {
   "cell_type": "markdown",
   "metadata": {},
   "source": [
    "##### max_glue_serum Feature Fix"
   ]
  },
  {
   "cell_type": "markdown",
   "metadata": {},
   "source": [
    "Queremos hacer los siguientes cambios: \n",
    "\n",
    "|Raw Values|New Values|\n",
    "|---|---|\n",
    "|non|0\n",
    "|norm|1\n",
    "|>200|2\n",
    "|>300|3"
   ]
  },
  {
   "cell_type": "code",
   "execution_count": 24,
   "metadata": {},
   "outputs": [
    {
     "data": {
      "text/plain": [
       "None    68062\n",
       "Norm     1731\n",
       ">200      969\n",
       ">300      756\n",
       "Name: max_glu_serum, dtype: int64"
      ]
     },
     "execution_count": 24,
     "metadata": {},
     "output_type": "execute_result"
    }
   ],
   "source": [
    "df.max_glu_serum.value_counts()"
   ]
  },
  {
   "cell_type": "code",
   "execution_count": 25,
   "metadata": {},
   "outputs": [
    {
     "data": {
      "text/plain": [
       "0    68062\n",
       "1     1731\n",
       "2      969\n",
       "3      756\n",
       "Name: max_glu_serum, dtype: int64"
      ]
     },
     "execution_count": 25,
     "metadata": {},
     "output_type": "execute_result"
    }
   ],
   "source": [
    "df['max_glu_serum']=df['max_glu_serum'].replace(\"None\", 0)\n",
    "df['max_glu_serum']=df['max_glu_serum'].replace(\"Norm\", 1)\n",
    "df['max_glu_serum']=df['max_glu_serum'].replace(\">200\", 2)\n",
    "df['max_glu_serum']=df['max_glu_serum'].replace(\">300\", 3)\n",
    "df.max_glu_serum.value_counts()"
   ]
  },
  {
   "cell_type": "markdown",
   "metadata": {},
   "source": [
    "##### A1Cresult Feature Fix"
   ]
  },
  {
   "cell_type": "markdown",
   "metadata": {},
   "source": [
    "Queremos hacer los siguientes cambios: \n",
    "\n",
    "|Raw Values|New Values|\n",
    "|---|---|\n",
    "|None|0\n",
    "|Norm|1\n",
    "|>7|2\n",
    "|>8|3"
   ]
  },
  {
   "cell_type": "code",
   "execution_count": 26,
   "metadata": {},
   "outputs": [
    {
     "data": {
      "text/plain": [
       "None    58532\n",
       ">8       6304\n",
       "Norm     3791\n",
       ">7       2891\n",
       "Name: A1Cresult, dtype: int64"
      ]
     },
     "execution_count": 26,
     "metadata": {},
     "output_type": "execute_result"
    }
   ],
   "source": [
    "df.A1Cresult.value_counts()"
   ]
  },
  {
   "cell_type": "code",
   "execution_count": 27,
   "metadata": {},
   "outputs": [],
   "source": [
    "df['A1Cresult']=df['A1Cresult'].replace(\"None\", 0)\n",
    "df['A1Cresult']=df['A1Cresult'].replace(\"Norm\", 1)\n",
    "df['A1Cresult']=df['A1Cresult'].replace(\">7\", 2)\n",
    "df['A1Cresult']=df['A1Cresult'].replace(\">8\", 3)"
   ]
  },
  {
   "cell_type": "code",
   "execution_count": 28,
   "metadata": {},
   "outputs": [
    {
     "data": {
      "text/plain": [
       "0    58532\n",
       "3     6304\n",
       "1     3791\n",
       "2     2891\n",
       "Name: A1Cresult, dtype: int64"
      ]
     },
     "execution_count": 28,
     "metadata": {},
     "output_type": "execute_result"
    }
   ],
   "source": [
    "df.A1Cresult.value_counts()"
   ]
  },
  {
   "cell_type": "markdown",
   "metadata": {},
   "source": [
    "##### Arreglo caracterísitcas de los Medicamentos "
   ]
  },
  {
   "cell_type": "markdown",
   "metadata": {},
   "source": [
    "Todavía tenemos 7 características, cada una de las cuales representa el cambio en el consumo de un medicamento específico por parte del paciente, durante el encuentro hospitalario. Esos 7 medicamentos son los siguientes \n",
    "* metformina                 \n",
    "* glimepirida              \n",
    "* glipizida              \n",
    "* Gliburida                \n",
    "* pioglitazona             \n",
    "* rosiglitazona          \n",
    "* insulina     \n",
    "\n",
    "Para todos esos medicamentos, queremos aplicar los siguientes cambios, ya que los valores son categorías ordinales: \n",
    "\n",
    "|Valores brutos|Nuevos valores\n",
    "|---|---|\n",
    "|No|0|\n",
    "|Disminuye|1\n",
    "|Igual|2\n",
    "|Aumenta|3"
   ]
  },
  {
   "cell_type": "code",
   "execution_count": 29,
   "metadata": {},
   "outputs": [
    {
     "data": {
      "text/plain": [
       "No        34921\n",
       "Steady    22129\n",
       "Down       7505\n",
       "Up         6963\n",
       "Name: insulin, dtype: int64"
      ]
     },
     "execution_count": 29,
     "metadata": {},
     "output_type": "execute_result"
    }
   ],
   "source": [
    "#df.metformin.value_counts()\n",
    "#df.glimepiride.value_counts()\n",
    "#df.glipizide.value_counts()\n",
    "#df.glyburide.value_counts()\n",
    "#df.pioglitazone.value_counts()\n",
    "#df.rosiglitazone.value_counts()\n",
    "df.insulin.value_counts()"
   ]
  },
  {
   "cell_type": "code",
   "execution_count": 30,
   "metadata": {},
   "outputs": [],
   "source": [
    "drug_list = ['metformin', 'glimepiride', 'glipizide', 'glyburide', 'pioglitazone', 'rosiglitazone', 'insulin']\n",
    "for i in drug_list:\n",
    "    df[i] = df[i].replace('No', 0)\n",
    "    df[i] = df[i].replace('Steady', 2)\n",
    "    df[i] = df[i].replace('Down', 1)\n",
    "    df[i] = df[i].replace('Up', 3)"
   ]
  },
  {
   "cell_type": "code",
   "execution_count": 31,
   "metadata": {},
   "outputs": [
    {
     "data": {
      "text/plain": [
       "0    34921\n",
       "2    22129\n",
       "1     7505\n",
       "3     6963\n",
       "Name: insulin, dtype: int64"
      ]
     },
     "execution_count": 31,
     "metadata": {},
     "output_type": "execute_result"
    }
   ],
   "source": [
    "#df.metformin.value_counts()\n",
    "#df.glimepiride.value_counts()\n",
    "#df.glipizide.value_counts()\n",
    "#df.glyburide.value_counts()\n",
    "#df.pioglitazone.value_counts()\n",
    "#df.rosiglitazone.value_counts()\n",
    "df.insulin.value_counts()"
   ]
  },
  {
   "cell_type": "markdown",
   "metadata": {},
   "source": [
    "##### Change Feature Fix"
   ]
  },
  {
   "cell_type": "markdown",
   "metadata": {},
   "source": [
    "We want to change the values of the feature `change` from string into binary numeric. "
   ]
  },
  {
   "cell_type": "code",
   "execution_count": 32,
   "metadata": {},
   "outputs": [
    {
     "data": {
      "text/plain": [
       "No    39494\n",
       "Ch    32024\n",
       "Name: change, dtype: int64"
      ]
     },
     "execution_count": 32,
     "metadata": {},
     "output_type": "execute_result"
    }
   ],
   "source": [
    "df.change.value_counts()"
   ]
  },
  {
   "cell_type": "code",
   "execution_count": 33,
   "metadata": {},
   "outputs": [
    {
     "data": {
      "text/plain": [
       "Sin Cambios                 39494\n",
       "Cambios en la medicación    32024\n",
       "Name: change, dtype: int64"
      ]
     },
     "execution_count": 33,
     "metadata": {},
     "output_type": "execute_result"
    }
   ],
   "source": [
    "# df['change']=df['change'].replace('No', 0)\n",
    "# df['change']=df['change'].replace('Ch', 1)\n",
    "df['change']=df['change'].replace('No', 'Sin Cambios')\n",
    "df['change']=df['change'].replace('Ch', 'Cambios en la medicación')\n",
    "\n",
    "df.change.value_counts()"
   ]
  },
  {
   "cell_type": "markdown",
   "metadata": {},
   "source": [
    "##### DiabetesMed Feature Fix"
   ]
  },
  {
   "cell_type": "markdown",
   "metadata": {},
   "source": [
    "We want to change the values of the feature `diabetesMed` from string into binary numeric. "
   ]
  },
  {
   "cell_type": "code",
   "execution_count": 34,
   "metadata": {},
   "outputs": [
    {
     "data": {
      "text/plain": [
       "Yes    54319\n",
       "No     17199\n",
       "Name: diabetesMed, dtype: int64"
      ]
     },
     "execution_count": 34,
     "metadata": {},
     "output_type": "execute_result"
    }
   ],
   "source": [
    "df.diabetesMed.value_counts()"
   ]
  },
  {
   "cell_type": "code",
   "execution_count": 35,
   "metadata": {},
   "outputs": [
    {
     "data": {
      "text/plain": [
       "Si    54319\n",
       "No    17199\n",
       "Name: diabetesMed, dtype: int64"
      ]
     },
     "execution_count": 35,
     "metadata": {},
     "output_type": "execute_result"
    }
   ],
   "source": [
    "# df['diabetesMed']=df['diabetesMed'].replace('Yes', 1)\n",
    "# df['diabetesMed']=df['diabetesMed'].replace('No', 0)\n",
    "df['diabetesMed']=df['diabetesMed'].replace('Yes', 'Si')\n",
    "df['diabetesMed']=df['diabetesMed'].replace('No', 'No')\n",
    "\n",
    "df.diabetesMed.value_counts()"
   ]
  },
  {
   "cell_type": "markdown",
   "metadata": {},
   "source": [
    "##### Arreglo de las características del objetivo (readmitidos)"
   ]
  },
  {
   "cell_type": "markdown",
   "metadata": {},
   "source": [
    "El resultado que buscamos en las etiquetas es si el paciente es readmitido en el hospital en un plazo de 30 días, después de 30 días, o si no es readmitido de nuevo. En realidad, la variable tiene las categorías <30, >30 y Sin reingreso."
   ]
  },
  {
   "cell_type": "code",
   "execution_count": 36,
   "metadata": {},
   "outputs": [
    {
     "data": {
      "text/plain": [
       "NO     42985\n",
       ">30    22240\n",
       "<30     6293\n",
       "Name: readmitted, dtype: int64"
      ]
     },
     "execution_count": 36,
     "metadata": {},
     "output_type": "execute_result"
    }
   ],
   "source": [
    "df.readmitted.value_counts()"
   ]
  },
  {
   "cell_type": "markdown",
   "metadata": {},
   "source": [
    "Aquí utilizaremos una codificación simple como la siguiente: "
   ]
  },
  {
   "cell_type": "code",
   "execution_count": 37,
   "metadata": {},
   "outputs": [
    {
     "data": {
      "text/plain": [
       "NO          42985\n",
       ">30 días    22240\n",
       "<30 días     6293\n",
       "Name: readmitted, dtype: int64"
      ]
     },
     "execution_count": 37,
     "metadata": {},
     "output_type": "execute_result"
    }
   ],
   "source": [
    "# df['readmitted']=df['readmitted'].replace('NO', 0)\n",
    "# df['readmitted']=df['readmitted'].replace('>30', 1)\n",
    "# df['readmitted']=df['readmitted'].replace('<30', 2)\n",
    "\n",
    "df['readmitted']=df['readmitted'].replace('NO', 'NO')\n",
    "df['readmitted']=df['readmitted'].replace('>30', '>30 días')\n",
    "df['readmitted']=df['readmitted'].replace('<30', '<30 días')\n",
    "\n",
    "df.readmitted.value_counts()"
   ]
  },
  {
   "cell_type": "markdown",
   "metadata": {},
   "source": [
    "### Exploratory Data Analysis\n",
    "\n",
    "## Análisis Exploratorio de los Datos\n"
   ]
  },
  {
   "cell_type": "code",
   "execution_count": 38,
   "metadata": {},
   "outputs": [
    {
     "name": "stdout",
     "output_type": "stream",
     "text": [
      "<class 'pandas.core.frame.DataFrame'>\n",
      "Int64Index: 71518 entries, 0 to 101765\n",
      "Data columns (total 29 columns):\n",
      " #   Column                    Non-Null Count  Dtype  \n",
      "---  ------                    --------------  -----  \n",
      " 0   race                      71518 non-null  object \n",
      " 1   gender                    71518 non-null  object \n",
      " 2   age                       71518 non-null  int64  \n",
      " 3   admission_type_id         71518 non-null  int64  \n",
      " 4   discharge_disposition_id  71518 non-null  int64  \n",
      " 5   admission_source_id       71518 non-null  int64  \n",
      " 6   time_in_hospital          71518 non-null  int64  \n",
      " 7   num_lab_procedures        71518 non-null  int64  \n",
      " 8   num_procedures            71518 non-null  int64  \n",
      " 9   num_medications           71518 non-null  int64  \n",
      " 10  number_outpatient         71518 non-null  int64  \n",
      " 11  number_emergency          71518 non-null  int64  \n",
      " 12  number_inpatient          71518 non-null  int64  \n",
      " 13  diag_1                    71518 non-null  float64\n",
      " 14  diag_2                    71518 non-null  float64\n",
      " 15  diag_3                    71518 non-null  float64\n",
      " 16  number_diagnoses          71518 non-null  int64  \n",
      " 17  max_glu_serum             71518 non-null  int64  \n",
      " 18  A1Cresult                 71518 non-null  int64  \n",
      " 19  metformin                 71518 non-null  int64  \n",
      " 20  glimepiride               71518 non-null  int64  \n",
      " 21  glipizide                 71518 non-null  int64  \n",
      " 22  glyburide                 71518 non-null  int64  \n",
      " 23  pioglitazone              71518 non-null  int64  \n",
      " 24  rosiglitazone             71518 non-null  int64  \n",
      " 25  insulin                   71518 non-null  int64  \n",
      " 26  change                    71518 non-null  object \n",
      " 27  diabetesMed               71518 non-null  object \n",
      " 28  readmitted                71518 non-null  object \n",
      "dtypes: float64(3), int64(21), object(5)\n",
      "memory usage: 16.4+ MB\n"
     ]
    }
   ],
   "source": [
    "df.info()"
   ]
  },
  {
   "cell_type": "markdown",
   "metadata": {},
   "source": [
    "##### Análisis de correlación"
   ]
  },
  {
   "cell_type": "markdown",
   "metadata": {},
   "source": [
    "Comprobemos primero la correlación de nuestros predictores"
   ]
  },
  {
   "cell_type": "code",
   "execution_count": 39,
   "metadata": {},
   "outputs": [
    {
     "data": {
      "image/png": "[encoded data removed]",
      "text/plain": [
       "<Figure size 1440x1440 with 2 Axes>"
      ]
     },
     "metadata": {},
     "output_type": "display_data"
    }
   ],
   "source": [
    "matrix = np.triu(df.corr())\n",
    "fig, ax = plt.subplots(figsize=(20,20))\n",
    "sns.heatmap(df.corr(), annot=True, ax=ax, fmt='.1g', vmin=-1, vmax=1, center= 0, mask=matrix, cmap='RdBu_r')\n",
    "plt.show()\n"
   ]
  },
  {
   "cell_type": "markdown",
   "metadata": {},
   "source": [
    "* Las correlaciones más fuertes entre los predictores son: \n",
    "    * número_de_medicamentos & tiempo_de_hospitalización (corr = 0,5)\n",
    "    * cambio & insulina (corr = 0,5)\n",
    "    * Cambio y diabetesMed (corr = 0,5)\n",
    "    * diabetesMed & insulina (corr = 0.5)\n",
    "* Además, la etiqueta `readmitted` tiene en general una correlación con todos los predictores. "
   ]
  },
  {
   "cell_type": "markdown",
   "metadata": {},
   "source": [
    "##### Análisis de pacientes"
   ]
  },
  {
   "cell_type": "code",
   "execution_count": 40,
   "metadata": {},
   "outputs": [
    {
     "data": {
      "image/png": "[encoded data removed]",
      "text/plain": [
       "<Figure size 1296x432 with 4 Axes>"
      ]
     },
     "metadata": {},
     "output_type": "display_data"
    }
   ],
   "source": [
    "fig = plt.figure(figsize=(18, 6))\n",
    "\n",
    "ax1 = fig.add_subplot(2, 2, 1)\n",
    "ax2 = fig.add_subplot(2, 2, 2)\n",
    "ax3 = fig.add_subplot(2, 2, 3)\n",
    "ax4 = fig.add_subplot(2, 2, 4)\n",
    "\n",
    "sns.countplot(data=df, x='race', hue='readmitted', ax=ax1)\n",
    "sns.countplot(data=df, x='age', hue='readmitted', ax=ax2)\n",
    "sns.countplot(data=df, x='gender', hue='readmitted', ax=ax3)\n",
    "sns.countplot(data=df, x='diabetesMed', hue='readmitted', ax=ax4)\n",
    "\n",
    "ax1.legend(loc='upper right')\n",
    "ax2.legend(loc='upper right')\n",
    "ax3.legend(loc='upper right')\n",
    "ax4.legend(loc='upper right')\n",
    "plt.tight_layout()\n",
    "plt.show()\n",
    "\n",
    "#\n",
    "# readmitted: 0 = No, 1 = >30, 2 = <30"
   ]
  },
  {
   "cell_type": "markdown",
   "metadata": {},
   "source": [
    "* La readmisión tiene una distribución similar entre las diferentes razas. \n",
    "* Muy pocos casos de readmisión para los pacientes más jóvenes (< 40). \n",
    "* Las mujeres tienen una tasa de no readmisión ligeramente superior a la de los hombres. \n",
    "* La readmisión tiene una distribución similar para los pacientes con y sin medicación prescrita para la diabetes antes del encuentro con el hospital. "
   ]
  },
  {
   "cell_type": "markdown",
   "metadata": {},
   "source": [
    "##### Análisis de medicamentos"
   ]
  },
  {
   "cell_type": "code",
   "execution_count": 41,
   "metadata": {},
   "outputs": [
    {
     "data": {
      "image/png": "[encoded data removed]",
      "text/plain": [
       "<Figure size 1440x576 with 3 Axes>"
      ]
     },
     "metadata": {},
     "output_type": "display_data"
    }
   ],
   "source": [
    "fig, ax = plt.subplots(1, 3 ,figsize=(20, 8), subplot_kw=dict(aspect=\"equal\"))\n",
    "# ax[0].pie(df['metformin'].value_counts(), autopct='%1.0f%%', labels=['No', 'Estable', 'Aumenta', 'Disminuye'])\n",
    "# ax[0].set_title('Dosis de metformina')\n",
    "# ax[1].pie(df['glimepiride'].value_counts(), autopct='%1.0f%%', labels=['No', 'Estable', 'Aumenta', 'Disminuye'])\n",
    "# ax[1].set_title('Dosis de glimepirida')\n",
    "# ax[2].pie(df['glipizide'].value_counts(), autopct='%1.0f%%', labels=['No', 'Estable', 'Aumenta', 'Disminuye'])\n",
    "# ax[2].set_title('Dosis de glipizida')\n",
    "# ax[3].pie(df['glyburide'].value_counts(), autopct='%1.0f%%', labels=['No', 'Estable', 'Aumenta', 'Disminuye'])\n",
    "# ax[3].set_title('Dosis de gliburida')\n",
    "# ax[4].pie(df['pioglitazone'].value_counts(), autopct='%1.0f%%', labels=['No', 'Estable', 'Aumenta', 'Disminuye'])\n",
    "# ax[4].set_title('Dosis de pioglitazona')\n",
    "# ax[5].pie(df['rosiglitazone'].value_counts(), autopct='%1.0f%%', labels=['No', 'Estable', 'Aumenta', 'Disminuye'])\n",
    "# ax[5].set_title('Dosis de rosiglitazona')\n",
    "# ax[6].pie(df['insulin'].value_counts(), autopct='%1.0f%%', labels=['No', 'Estable', 'Disminuye', 'Aumenta'])\n",
    "# ax[6].set_title('Dosis de insulina')\n",
    "\n",
    "ax[0].pie(df['insulin'].value_counts(), autopct='%1.0f%%', labels=['No', 'Estable', 'Disminuye', 'Aumenta'])\n",
    "ax[0].set_title('Dosis de insulina')\n",
    "\n",
    "ax[1].pie(df['metformin'].value_counts(), autopct='%1.0f%%', labels=['No', 'Estable', 'Aumenta', 'Disminuye'])\n",
    "ax[1].set_title('Dosis de metformina')\n",
    "\n",
    "ax[2].pie(df['glimepiride'].value_counts(), autopct='%1.0f%%', labels=['No', 'Estable', 'Aumenta', 'Disminuye'])\n",
    "ax[2].set_title('Dosis de glimepirida')\n",
    "\n",
    "fig.suptitle('Cambios de dosis de medicamentos durante el tratamiento')\n",
    "plt.show()\n"
   ]
  },
  {
   "cell_type": "markdown",
   "metadata": {},
   "source": [
    "Salvo la insulina, los demás medicamentos tienen una distribución muy similar.  "
   ]
  },
  {
   "cell_type": "code",
   "execution_count": null,
   "metadata": {},
   "outputs": [],
   "source": []
  }
 ],
 "metadata": {
  "kernelspec": {
   "display_name": "Python 3 (ipykernel)",
   "language": "python",
   "name": "python3"
  },
  "language_info": {
   "codemirror_mode": {
    "name": "ipython",
    "version": 3
   },
   "file_extension": ".py",
   "mimetype": "text/x-python",
   "name": "python",
   "nbconvert_exporter": "python",
   "pygments_lexer": "ipython3",
   "version": "3.8.12"
  }
 },
 "nbformat": 4,
 "nbformat_minor": 4
}
